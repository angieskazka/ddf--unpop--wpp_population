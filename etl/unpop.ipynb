{
 "cells": [
  {
   "cell_type": "code",
   "execution_count": 2,
   "metadata": {
    "collapsed": false
   },
   "outputs": [],
   "source": [
    "import pandas as pd\n",
    "import numpy as np\n",
    "import re\n",
    "import os\n",
    "from ddf_utils.str import to_concept_id\n",
    "from ddf_utils.index import create_index_file"
   ]
  },
  {
   "cell_type": "code",
   "execution_count": 3,
   "metadata": {
    "collapsed": true
   },
   "outputs": [],
   "source": [
    "source = 'source/WPP2015_INT_F02A_1_ANNUAL_POPULATION_INDICATORS_BOTH_SEXES.XLS'"
   ]
  },
  {
   "cell_type": "code",
   "execution_count": 26,
   "metadata": {
    "collapsed": false
   },
   "outputs": [],
   "source": [
    "data_est = pd.read_excel(source, sheetname='ESTIMATES', skiprows=16, header=None)"
   ]
  },
  {
   "cell_type": "code",
   "execution_count": 27,
   "metadata": {
    "collapsed": true
   },
   "outputs": [],
   "source": [
    "data_var = pd.read_excel(source, sheetname='MEDIUM VARIANT', skiprows=16, header=None)"
   ]
  },
  {
   "cell_type": "code",
   "execution_count": 28,
   "metadata": {
    "collapsed": false
   },
   "outputs": [
    {
     "data": {
      "text/html": [
       "<div>\n",
       "<table border=\"1\" class=\"dataframe\">\n",
       "  <thead>\n",
       "    <tr style=\"text-align: right;\">\n",
       "      <th></th>\n",
       "      <th>0</th>\n",
       "      <th>1</th>\n",
       "      <th>2</th>\n",
       "      <th>3</th>\n",
       "      <th>4</th>\n",
       "      <th>5</th>\n",
       "      <th>6</th>\n",
       "      <th>7</th>\n",
       "      <th>8</th>\n",
       "      <th>9</th>\n",
       "      <th>...</th>\n",
       "      <th>54</th>\n",
       "      <th>55</th>\n",
       "      <th>56</th>\n",
       "      <th>57</th>\n",
       "      <th>58</th>\n",
       "      <th>59</th>\n",
       "      <th>60</th>\n",
       "      <th>61</th>\n",
       "      <th>62</th>\n",
       "      <th>63</th>\n",
       "    </tr>\n",
       "  </thead>\n",
       "  <tbody>\n",
       "    <tr>\n",
       "      <th>0</th>\n",
       "      <td>Index</td>\n",
       "      <td>Variant</td>\n",
       "      <td>Major area, region, country or area *</td>\n",
       "      <td>Notes</td>\n",
       "      <td>Country code</td>\n",
       "      <td>Reference date (as of 1 July)</td>\n",
       "      <td>Alive between birth and age 1</td>\n",
       "      <td>Population under age 2</td>\n",
       "      <td>Population under age 5</td>\n",
       "      <td>Population under age 15</td>\n",
       "      <td>...</td>\n",
       "      <td>Population aged 25 or over</td>\n",
       "      <td>Population aged 50 or over</td>\n",
       "      <td>Population aged 60 or over</td>\n",
       "      <td>Population aged 65 or over</td>\n",
       "      <td>Population aged 70 or over</td>\n",
       "      <td>Population aged 75 or over</td>\n",
       "      <td>Population aged 80 or over</td>\n",
       "      <td>Population aged 85 or over</td>\n",
       "      <td>Population aged 90 or over</td>\n",
       "      <td>Total</td>\n",
       "    </tr>\n",
       "    <tr>\n",
       "      <th>1</th>\n",
       "      <td>1</td>\n",
       "      <td>Medium variant</td>\n",
       "      <td>WORLD</td>\n",
       "      <td>NaN</td>\n",
       "      <td>900</td>\n",
       "      <td>2015</td>\n",
       "      <td>136505</td>\n",
       "      <td>272228</td>\n",
       "      <td>670928</td>\n",
       "      <td>1.91581e+06</td>\n",
       "      <td>...</td>\n",
       "      <td>4.24009e+06</td>\n",
       "      <td>1.64235e+06</td>\n",
       "      <td>900906</td>\n",
       "      <td>608180</td>\n",
       "      <td>393133</td>\n",
       "      <td>239925</td>\n",
       "      <td>125273</td>\n",
       "      <td>53823.5</td>\n",
       "      <td>16761.3</td>\n",
       "      <td>7.34947e+06</td>\n",
       "    </tr>\n",
       "    <tr>\n",
       "      <th>2</th>\n",
       "      <td>2</td>\n",
       "      <td>Medium variant</td>\n",
       "      <td>WORLD</td>\n",
       "      <td>NaN</td>\n",
       "      <td>900</td>\n",
       "      <td>2016</td>\n",
       "      <td>136805</td>\n",
       "      <td>273145</td>\n",
       "      <td>675011</td>\n",
       "      <td>1.93076e+06</td>\n",
       "      <td>...</td>\n",
       "      <td>4.31275e+06</td>\n",
       "      <td>1.68714e+06</td>\n",
       "      <td>928952</td>\n",
       "      <td>629487</td>\n",
       "      <td>404424</td>\n",
       "      <td>246807</td>\n",
       "      <td>130991</td>\n",
       "      <td>57240.1</td>\n",
       "      <td>18527.3</td>\n",
       "      <td>7.43266e+06</td>\n",
       "    </tr>\n",
       "    <tr>\n",
       "      <th>3</th>\n",
       "      <td>3</td>\n",
       "      <td>Medium variant</td>\n",
       "      <td>WORLD</td>\n",
       "      <td>NaN</td>\n",
       "      <td>900</td>\n",
       "      <td>2017</td>\n",
       "      <td>136960</td>\n",
       "      <td>272692</td>\n",
       "      <td>677197</td>\n",
       "      <td>1.94419e+06</td>\n",
       "      <td>...</td>\n",
       "      <td>4.38451e+06</td>\n",
       "      <td>1.73323e+06</td>\n",
       "      <td>956949</td>\n",
       "      <td>652501</td>\n",
       "      <td>416128</td>\n",
       "      <td>252843</td>\n",
       "      <td>136259</td>\n",
       "      <td>60088.3</td>\n",
       "      <td>20132.2</td>\n",
       "      <td>7.51528e+06</td>\n",
       "    </tr>\n",
       "    <tr>\n",
       "      <th>4</th>\n",
       "      <td>4</td>\n",
       "      <td>Medium variant</td>\n",
       "      <td>WORLD</td>\n",
       "      <td>NaN</td>\n",
       "      <td>900</td>\n",
       "      <td>2018</td>\n",
       "      <td>136987</td>\n",
       "      <td>272214</td>\n",
       "      <td>677912</td>\n",
       "      <td>1.95614e+06</td>\n",
       "      <td>...</td>\n",
       "      <td>4.45507e+06</td>\n",
       "      <td>1.78035e+06</td>\n",
       "      <td>985368</td>\n",
       "      <td>676634</td>\n",
       "      <td>428570</td>\n",
       "      <td>258399</td>\n",
       "      <td>140773</td>\n",
       "      <td>62277.8</td>\n",
       "      <td>21343.7</td>\n",
       "      <td>7.59718e+06</td>\n",
       "    </tr>\n",
       "  </tbody>\n",
       "</table>\n",
       "<p>5 rows × 64 columns</p>\n",
       "</div>"
      ],
      "text/plain": [
       "      0               1                                      2      3   \\\n",
       "0  Index         Variant  Major area, region, country or area *  Notes   \n",
       "1      1  Medium variant                                  WORLD    NaN   \n",
       "2      2  Medium variant                                  WORLD    NaN   \n",
       "3      3  Medium variant                                  WORLD    NaN   \n",
       "4      4  Medium variant                                  WORLD    NaN   \n",
       "\n",
       "             4                              5                              6   \\\n",
       "0  Country code  Reference date (as of 1 July)  Alive between birth and age 1   \n",
       "1           900                           2015                         136505   \n",
       "2           900                           2016                         136805   \n",
       "3           900                           2017                         136960   \n",
       "4           900                           2018                         136987   \n",
       "\n",
       "                       7                       8                        9   \\\n",
       "0  Population under age 2  Population under age 5  Population under age 15   \n",
       "1                  272228                  670928              1.91581e+06   \n",
       "2                  273145                  675011              1.93076e+06   \n",
       "3                  272692                  677197              1.94419e+06   \n",
       "4                  272214                  677912              1.95614e+06   \n",
       "\n",
       "      ...                               54                          55  \\\n",
       "0     ...       Population aged 25 or over  Population aged 50 or over   \n",
       "1     ...                      4.24009e+06                 1.64235e+06   \n",
       "2     ...                      4.31275e+06                 1.68714e+06   \n",
       "3     ...                      4.38451e+06                 1.73323e+06   \n",
       "4     ...                      4.45507e+06                 1.78035e+06   \n",
       "\n",
       "                           56                          57  \\\n",
       "0  Population aged 60 or over  Population aged 65 or over   \n",
       "1                      900906                      608180   \n",
       "2                      928952                      629487   \n",
       "3                      956949                      652501   \n",
       "4                      985368                      676634   \n",
       "\n",
       "                           58                          59  \\\n",
       "0  Population aged 70 or over  Population aged 75 or over   \n",
       "1                      393133                      239925   \n",
       "2                      404424                      246807   \n",
       "3                      416128                      252843   \n",
       "4                      428570                      258399   \n",
       "\n",
       "                           60                          61  \\\n",
       "0  Population aged 80 or over  Population aged 85 or over   \n",
       "1                      125273                     53823.5   \n",
       "2                      130991                     57240.1   \n",
       "3                      136259                     60088.3   \n",
       "4                      140773                     62277.8   \n",
       "\n",
       "                           62           63  \n",
       "0  Population aged 90 or over        Total  \n",
       "1                     16761.3  7.34947e+06  \n",
       "2                     18527.3  7.43266e+06  \n",
       "3                     20132.2  7.51528e+06  \n",
       "4                     21343.7  7.59718e+06  \n",
       "\n",
       "[5 rows x 64 columns]"
      ]
     },
     "execution_count": 28,
     "metadata": {},
     "output_type": "execute_result"
    }
   ],
   "source": [
    "data_var.head()"
   ]
  },
  {
   "cell_type": "code",
   "execution_count": 30,
   "metadata": {
    "collapsed": false
   },
   "outputs": [
    {
     "data": {
      "text/html": [
       "<div>\n",
       "<table border=\"1\" class=\"dataframe\">\n",
       "  <thead>\n",
       "    <tr style=\"text-align: right;\">\n",
       "      <th></th>\n",
       "      <th>0</th>\n",
       "      <th>1</th>\n",
       "      <th>2</th>\n",
       "      <th>3</th>\n",
       "      <th>4</th>\n",
       "      <th>5</th>\n",
       "      <th>6</th>\n",
       "      <th>7</th>\n",
       "      <th>8</th>\n",
       "      <th>9</th>\n",
       "      <th>...</th>\n",
       "      <th>54</th>\n",
       "      <th>55</th>\n",
       "      <th>56</th>\n",
       "      <th>57</th>\n",
       "      <th>58</th>\n",
       "      <th>59</th>\n",
       "      <th>60</th>\n",
       "      <th>61</th>\n",
       "      <th>62</th>\n",
       "      <th>63</th>\n",
       "    </tr>\n",
       "  </thead>\n",
       "  <tbody>\n",
       "    <tr>\n",
       "      <th>15902</th>\n",
       "      <td>15902</td>\n",
       "      <td>Estimates</td>\n",
       "      <td>Tonga</td>\n",
       "      <td>NaN</td>\n",
       "      <td>776</td>\n",
       "      <td>2011</td>\n",
       "      <td>2.758</td>\n",
       "      <td>5.498</td>\n",
       "      <td>13.686</td>\n",
       "      <td>39.012</td>\n",
       "      <td>...</td>\n",
       "      <td>45.941</td>\n",
       "      <td>15.365</td>\n",
       "      <td>8.355</td>\n",
       "      <td>6.135</td>\n",
       "      <td>4.246</td>\n",
       "      <td>2.638</td>\n",
       "      <td>1.386</td>\n",
       "      <td>0.537</td>\n",
       "      <td>0.152</td>\n",
       "      <td>104.392</td>\n",
       "    </tr>\n",
       "    <tr>\n",
       "      <th>15903</th>\n",
       "      <td>15903</td>\n",
       "      <td>Estimates</td>\n",
       "      <td>Tonga</td>\n",
       "      <td>NaN</td>\n",
       "      <td>776</td>\n",
       "      <td>2012</td>\n",
       "      <td>2.718</td>\n",
       "      <td>5.356</td>\n",
       "      <td>13.524</td>\n",
       "      <td>39.057</td>\n",
       "      <td>...</td>\n",
       "      <td>45.979</td>\n",
       "      <td>15.599</td>\n",
       "      <td>8.377</td>\n",
       "      <td>6.162</td>\n",
       "      <td>4.269</td>\n",
       "      <td>2.677</td>\n",
       "      <td>1.428</td>\n",
       "      <td>0.579</td>\n",
       "      <td>0.162</td>\n",
       "      <td>104.769</td>\n",
       "    </tr>\n",
       "    <tr>\n",
       "      <th>15904</th>\n",
       "      <td>15904</td>\n",
       "      <td>Estimates</td>\n",
       "      <td>Tonga</td>\n",
       "      <td>NaN</td>\n",
       "      <td>776</td>\n",
       "      <td>2013</td>\n",
       "      <td>2.673</td>\n",
       "      <td>5.241</td>\n",
       "      <td>13.305</td>\n",
       "      <td>39.056</td>\n",
       "      <td>...</td>\n",
       "      <td>45.958</td>\n",
       "      <td>15.819</td>\n",
       "      <td>8.414</td>\n",
       "      <td>6.189</td>\n",
       "      <td>4.282</td>\n",
       "      <td>2.705</td>\n",
       "      <td>1.458</td>\n",
       "      <td>0.612</td>\n",
       "      <td>0.17</td>\n",
       "      <td>105.139</td>\n",
       "    </tr>\n",
       "    <tr>\n",
       "      <th>15905</th>\n",
       "      <td>15905</td>\n",
       "      <td>Estimates</td>\n",
       "      <td>Tonga</td>\n",
       "      <td>NaN</td>\n",
       "      <td>776</td>\n",
       "      <td>2014</td>\n",
       "      <td>2.628</td>\n",
       "      <td>5.139</td>\n",
       "      <td>13.086</td>\n",
       "      <td>39.04</td>\n",
       "      <td>...</td>\n",
       "      <td>45.964</td>\n",
       "      <td>16.054</td>\n",
       "      <td>8.502</td>\n",
       "      <td>6.213</td>\n",
       "      <td>4.29</td>\n",
       "      <td>2.72</td>\n",
       "      <td>1.476</td>\n",
       "      <td>0.631</td>\n",
       "      <td>0.178</td>\n",
       "      <td>105.586</td>\n",
       "    </tr>\n",
       "    <tr>\n",
       "      <th>15906</th>\n",
       "      <td>15906</td>\n",
       "      <td>Estimates</td>\n",
       "      <td>Tonga</td>\n",
       "      <td>NaN</td>\n",
       "      <td>776</td>\n",
       "      <td>2015</td>\n",
       "      <td>2.585</td>\n",
       "      <td>5.059</td>\n",
       "      <td>12.91</td>\n",
       "      <td>39.032</td>\n",
       "      <td>...</td>\n",
       "      <td>46.058</td>\n",
       "      <td>16.325</td>\n",
       "      <td>8.66</td>\n",
       "      <td>6.236</td>\n",
       "      <td>4.294</td>\n",
       "      <td>2.723</td>\n",
       "      <td>1.479</td>\n",
       "      <td>0.634</td>\n",
       "      <td>0.178</td>\n",
       "      <td>106.17</td>\n",
       "    </tr>\n",
       "  </tbody>\n",
       "</table>\n",
       "<p>5 rows × 64 columns</p>\n",
       "</div>"
      ],
      "text/plain": [
       "          0          1      2    3    4     5      6      7       8       9   \\\n",
       "15902  15902  Estimates  Tonga  NaN  776  2011  2.758  5.498  13.686  39.012   \n",
       "15903  15903  Estimates  Tonga  NaN  776  2012  2.718  5.356  13.524  39.057   \n",
       "15904  15904  Estimates  Tonga  NaN  776  2013  2.673  5.241  13.305  39.056   \n",
       "15905  15905  Estimates  Tonga  NaN  776  2014  2.628  5.139  13.086   39.04   \n",
       "15906  15906  Estimates  Tonga  NaN  776  2015  2.585  5.059   12.91  39.032   \n",
       "\n",
       "        ...         54      55     56     57     58     59     60     61  \\\n",
       "15902   ...     45.941  15.365  8.355  6.135  4.246  2.638  1.386  0.537   \n",
       "15903   ...     45.979  15.599  8.377  6.162  4.269  2.677  1.428  0.579   \n",
       "15904   ...     45.958  15.819  8.414  6.189  4.282  2.705  1.458  0.612   \n",
       "15905   ...     45.964  16.054  8.502  6.213   4.29   2.72  1.476  0.631   \n",
       "15906   ...     46.058  16.325   8.66  6.236  4.294  2.723  1.479  0.634   \n",
       "\n",
       "          62       63  \n",
       "15902  0.152  104.392  \n",
       "15903  0.162  104.769  \n",
       "15904   0.17  105.139  \n",
       "15905  0.178  105.586  \n",
       "15906  0.178   106.17  \n",
       "\n",
       "[5 rows x 64 columns]"
      ]
     },
     "execution_count": 30,
     "metadata": {},
     "output_type": "execute_result"
    }
   ],
   "source": [
    "data_est.tail()"
   ]
  },
  {
   "cell_type": "code",
   "execution_count": 34,
   "metadata": {
    "collapsed": false
   },
   "outputs": [],
   "source": [
    "data_est.columns = data_est.ix[0].map(to_concept_id)"
   ]
  },
  {
   "cell_type": "code",
   "execution_count": 36,
   "metadata": {
    "collapsed": false
   },
   "outputs": [],
   "source": [
    "data_est = data_est.drop(['index', 'notes'], axis=1)"
   ]
  },
  {
   "cell_type": "code",
   "execution_count": 37,
   "metadata": {
    "collapsed": false
   },
   "outputs": [
    {
     "data": {
      "text/html": [
       "<div>\n",
       "<table border=\"1\" class=\"dataframe\">\n",
       "  <thead>\n",
       "    <tr style=\"text-align: right;\">\n",
       "      <th></th>\n",
       "      <th>variant</th>\n",
       "      <th>major_area_region_country_or_area</th>\n",
       "      <th>country_code</th>\n",
       "      <th>reference_date_as_of_1_july</th>\n",
       "      <th>alive_between_birth_and_age_1</th>\n",
       "      <th>population_under_age_2</th>\n",
       "      <th>population_under_age_5</th>\n",
       "      <th>population_under_age_15</th>\n",
       "      <th>population_under_age_18</th>\n",
       "      <th>population_under_age_20</th>\n",
       "      <th>...</th>\n",
       "      <th>population_aged_25_or_over</th>\n",
       "      <th>population_aged_50_or_over</th>\n",
       "      <th>population_aged_60_or_over</th>\n",
       "      <th>population_aged_65_or_over</th>\n",
       "      <th>population_aged_70_or_over</th>\n",
       "      <th>population_aged_75_or_over</th>\n",
       "      <th>population_aged_80_or_over</th>\n",
       "      <th>population_aged_85_or_over</th>\n",
       "      <th>population_aged_90_or_over</th>\n",
       "      <th>total</th>\n",
       "    </tr>\n",
       "  </thead>\n",
       "  <tbody>\n",
       "    <tr>\n",
       "      <th>0</th>\n",
       "      <td>Variant</td>\n",
       "      <td>Major area, region, country or area *</td>\n",
       "      <td>Country code</td>\n",
       "      <td>Reference date (as of 1 July)</td>\n",
       "      <td>Alive between birth and age 1</td>\n",
       "      <td>Population under age 2</td>\n",
       "      <td>Population under age 5</td>\n",
       "      <td>Population under age 15</td>\n",
       "      <td>Population under age 18</td>\n",
       "      <td>Population under age 20</td>\n",
       "      <td>...</td>\n",
       "      <td>Population aged 25 or over</td>\n",
       "      <td>Population aged 50 or over</td>\n",
       "      <td>Population aged 60 or over</td>\n",
       "      <td>Population aged 65 or over</td>\n",
       "      <td>Population aged 70 or over</td>\n",
       "      <td>Population aged 75 or over</td>\n",
       "      <td>Population aged 80 or over</td>\n",
       "      <td>Population aged 85 or over</td>\n",
       "      <td>Population aged 90 or over</td>\n",
       "      <td>Total</td>\n",
       "    </tr>\n",
       "    <tr>\n",
       "      <th>1</th>\n",
       "      <td>Estimates</td>\n",
       "      <td>WORLD</td>\n",
       "      <td>900</td>\n",
       "      <td>1950</td>\n",
       "      <td>87159.2</td>\n",
       "      <td>149824</td>\n",
       "      <td>337432</td>\n",
       "      <td>867267</td>\n",
       "      <td>1.01265e+06</td>\n",
       "      <td>1.1059e+06</td>\n",
       "      <td>...</td>\n",
       "      <td>1.19747e+06</td>\n",
       "      <td>398297</td>\n",
       "      <td>202088</td>\n",
       "      <td>128666</td>\n",
       "      <td>73559.3</td>\n",
       "      <td>36199.1</td>\n",
       "      <td>14201.8</td>\n",
       "      <td>4622.94</td>\n",
       "      <td>1172.58</td>\n",
       "      <td>2.52515e+06</td>\n",
       "    </tr>\n",
       "    <tr>\n",
       "      <th>2</th>\n",
       "      <td>Estimates</td>\n",
       "      <td>WORLD</td>\n",
       "      <td>900</td>\n",
       "      <td>1951</td>\n",
       "      <td>87159.2</td>\n",
       "      <td>158223</td>\n",
       "      <td>356128</td>\n",
       "      <td>891587</td>\n",
       "      <td>1.03927e+06</td>\n",
       "      <td>1.133e+06</td>\n",
       "      <td>...</td>\n",
       "      <td>1.21463e+06</td>\n",
       "      <td>404721</td>\n",
       "      <td>205407</td>\n",
       "      <td>131572</td>\n",
       "      <td>75712.8</td>\n",
       "      <td>37773.4</td>\n",
       "      <td>15183.5</td>\n",
       "      <td>4965.38</td>\n",
       "      <td>1281.84</td>\n",
       "      <td>2.57187e+06</td>\n",
       "    </tr>\n",
       "    <tr>\n",
       "      <th>3</th>\n",
       "      <td>Estimates</td>\n",
       "      <td>WORLD</td>\n",
       "      <td>900</td>\n",
       "      <td>1952</td>\n",
       "      <td>87328.7</td>\n",
       "      <td>164146</td>\n",
       "      <td>372562</td>\n",
       "      <td>914984</td>\n",
       "      <td>1.06533e+06</td>\n",
       "      <td>1.15999e+06</td>\n",
       "      <td>...</td>\n",
       "      <td>1.23204e+06</td>\n",
       "      <td>411195</td>\n",
       "      <td>208317</td>\n",
       "      <td>134134</td>\n",
       "      <td>77451.2</td>\n",
       "      <td>38962.9</td>\n",
       "      <td>15964.2</td>\n",
       "      <td>5182.38</td>\n",
       "      <td>1374.38</td>\n",
       "      <td>2.61794e+06</td>\n",
       "    </tr>\n",
       "    <tr>\n",
       "      <th>4</th>\n",
       "      <td>Estimates</td>\n",
       "      <td>WORLD</td>\n",
       "      <td>900</td>\n",
       "      <td>1953</td>\n",
       "      <td>87768.6</td>\n",
       "      <td>168831</td>\n",
       "      <td>385621</td>\n",
       "      <td>937356</td>\n",
       "      <td>1.09019e+06</td>\n",
       "      <td>1.18636e+06</td>\n",
       "      <td>...</td>\n",
       "      <td>1.25037e+06</td>\n",
       "      <td>417970</td>\n",
       "      <td>211000</td>\n",
       "      <td>136330</td>\n",
       "      <td>78767.5</td>\n",
       "      <td>39723.7</td>\n",
       "      <td>16437</td>\n",
       "      <td>5246.37</td>\n",
       "      <td>1414.08</td>\n",
       "      <td>2.66403e+06</td>\n",
       "    </tr>\n",
       "  </tbody>\n",
       "</table>\n",
       "<p>5 rows × 62 columns</p>\n",
       "</div>"
      ],
      "text/plain": [
       "0    variant      major_area_region_country_or_area  country_code  \\\n",
       "0    Variant  Major area, region, country or area *  Country code   \n",
       "1  Estimates                                  WORLD           900   \n",
       "2  Estimates                                  WORLD           900   \n",
       "3  Estimates                                  WORLD           900   \n",
       "4  Estimates                                  WORLD           900   \n",
       "\n",
       "0    reference_date_as_of_1_july  alive_between_birth_and_age_1  \\\n",
       "0  Reference date (as of 1 July)  Alive between birth and age 1   \n",
       "1                           1950                        87159.2   \n",
       "2                           1951                        87159.2   \n",
       "3                           1952                        87328.7   \n",
       "4                           1953                        87768.6   \n",
       "\n",
       "0  population_under_age_2  population_under_age_5  population_under_age_15  \\\n",
       "0  Population under age 2  Population under age 5  Population under age 15   \n",
       "1                  149824                  337432                   867267   \n",
       "2                  158223                  356128                   891587   \n",
       "3                  164146                  372562                   914984   \n",
       "4                  168831                  385621                   937356   \n",
       "\n",
       "0  population_under_age_18  population_under_age_20     ...       \\\n",
       "0  Population under age 18  Population under age 20     ...        \n",
       "1              1.01265e+06               1.1059e+06     ...        \n",
       "2              1.03927e+06                1.133e+06     ...        \n",
       "3              1.06533e+06              1.15999e+06     ...        \n",
       "4              1.09019e+06              1.18636e+06     ...        \n",
       "\n",
       "0  population_aged_25_or_over  population_aged_50_or_over  \\\n",
       "0  Population aged 25 or over  Population aged 50 or over   \n",
       "1                 1.19747e+06                      398297   \n",
       "2                 1.21463e+06                      404721   \n",
       "3                 1.23204e+06                      411195   \n",
       "4                 1.25037e+06                      417970   \n",
       "\n",
       "0  population_aged_60_or_over  population_aged_65_or_over  \\\n",
       "0  Population aged 60 or over  Population aged 65 or over   \n",
       "1                      202088                      128666   \n",
       "2                      205407                      131572   \n",
       "3                      208317                      134134   \n",
       "4                      211000                      136330   \n",
       "\n",
       "0  population_aged_70_or_over  population_aged_75_or_over  \\\n",
       "0  Population aged 70 or over  Population aged 75 or over   \n",
       "1                     73559.3                     36199.1   \n",
       "2                     75712.8                     37773.4   \n",
       "3                     77451.2                     38962.9   \n",
       "4                     78767.5                     39723.7   \n",
       "\n",
       "0  population_aged_80_or_over  population_aged_85_or_over  \\\n",
       "0  Population aged 80 or over  Population aged 85 or over   \n",
       "1                     14201.8                     4622.94   \n",
       "2                     15183.5                     4965.38   \n",
       "3                     15964.2                     5182.38   \n",
       "4                       16437                     5246.37   \n",
       "\n",
       "0  population_aged_90_or_over        total  \n",
       "0  Population aged 90 or over        Total  \n",
       "1                     1172.58  2.52515e+06  \n",
       "2                     1281.84  2.57187e+06  \n",
       "3                     1374.38  2.61794e+06  \n",
       "4                     1414.08  2.66403e+06  \n",
       "\n",
       "[5 rows x 62 columns]"
      ]
     },
     "execution_count": 37,
     "metadata": {},
     "output_type": "execute_result"
    }
   ],
   "source": [
    "data_est.head()"
   ]
  },
  {
   "cell_type": "code",
   "execution_count": 95,
   "metadata": {
    "collapsed": true
   },
   "outputs": [],
   "source": [
    "data_var.columns = data_var.ix[0].map(to_concept_id)\n",
    "data_var = data_var.drop(['index', 'notes'], axis=1)"
   ]
  },
  {
   "cell_type": "code",
   "execution_count": null,
   "metadata": {
    "collapsed": true
   },
   "outputs": [],
   "source": []
  },
  {
   "cell_type": "code",
   "execution_count": null,
   "metadata": {
    "collapsed": true
   },
   "outputs": [],
   "source": []
  },
  {
   "cell_type": "code",
   "execution_count": null,
   "metadata": {
    "collapsed": true
   },
   "outputs": [],
   "source": []
  },
  {
   "cell_type": "code",
   "execution_count": 70,
   "metadata": {
    "collapsed": false
   },
   "outputs": [],
   "source": [
    "concs = data_est.ix[0].T"
   ]
  },
  {
   "cell_type": "code",
   "execution_count": 71,
   "metadata": {
    "collapsed": false
   },
   "outputs": [],
   "source": [
    "concs.index.name = 'concept'\n",
    "concs.name = 'name'"
   ]
  },
  {
   "cell_type": "code",
   "execution_count": 72,
   "metadata": {
    "collapsed": true
   },
   "outputs": [],
   "source": [
    "concs = concs.rename(index={'reference_date_as_of_1_july': 'year'})"
   ]
  },
  {
   "cell_type": "code",
   "execution_count": 73,
   "metadata": {
    "collapsed": false
   },
   "outputs": [],
   "source": [
    "concs = concs.reset_index()"
   ]
  },
  {
   "cell_type": "code",
   "execution_count": 74,
   "metadata": {
    "collapsed": false
   },
   "outputs": [],
   "source": [
    "concs['concept_type'] = 'string'\n",
    "\n",
    "concs['concept_type'].iloc[2] = 'entity_domain'\n",
    "concs['concept_type'].iloc[3] = 'time'\n",
    "concs['concept_type'].iloc[4:] = 'measure'"
   ]
  },
  {
   "cell_type": "code",
   "execution_count": 75,
   "metadata": {
    "collapsed": false
   },
   "outputs": [],
   "source": [
    "concs = concs.append(pd.DataFrame([['name', 'Name', 'string']], columns=concs.columns))"
   ]
  },
  {
   "cell_type": "code",
   "execution_count": 76,
   "metadata": {
    "collapsed": false
   },
   "outputs": [],
   "source": [
    "concs.sort_index().to_csv('../ddf--concepts.csv', index=False)"
   ]
  },
  {
   "cell_type": "code",
   "execution_count": null,
   "metadata": {
    "collapsed": true
   },
   "outputs": [],
   "source": []
  },
  {
   "cell_type": "code",
   "execution_count": null,
   "metadata": {
    "collapsed": true
   },
   "outputs": [],
   "source": []
  },
  {
   "cell_type": "code",
   "execution_count": null,
   "metadata": {
    "collapsed": true
   },
   "outputs": [],
   "source": []
  },
  {
   "cell_type": "code",
   "execution_count": null,
   "metadata": {
    "collapsed": true
   },
   "outputs": [],
   "source": []
  },
  {
   "cell_type": "code",
   "execution_count": 77,
   "metadata": {
    "collapsed": true
   },
   "outputs": [],
   "source": [
    "# country"
   ]
  },
  {
   "cell_type": "code",
   "execution_count": 78,
   "metadata": {
    "collapsed": true
   },
   "outputs": [],
   "source": [
    "entity = data_est.drop(0)[['major_area_region_country_or_area', 'country_code']]"
   ]
  },
  {
   "cell_type": "code",
   "execution_count": 82,
   "metadata": {
    "collapsed": false
   },
   "outputs": [],
   "source": [
    "entity.drop_duplicates().to_csv('../ddf--entities--country.csv', index=False)"
   ]
  },
  {
   "cell_type": "code",
   "execution_count": null,
   "metadata": {
    "collapsed": true
   },
   "outputs": [],
   "source": []
  },
  {
   "cell_type": "code",
   "execution_count": 83,
   "metadata": {
    "collapsed": true
   },
   "outputs": [],
   "source": [
    "# data point"
   ]
  },
  {
   "cell_type": "code",
   "execution_count": 96,
   "metadata": {
    "collapsed": false
   },
   "outputs": [],
   "source": [
    "dp_1 = data_est.drop(0).drop('major_area_region_country_or_area', axis=1)\n",
    "dp_2 = data_var.drop(0).drop('major_area_region_country_or_area', axis=1)"
   ]
  },
  {
   "cell_type": "code",
   "execution_count": 105,
   "metadata": {
    "collapsed": true
   },
   "outputs": [],
   "source": [
    "dp = pd.concat([dp_1, dp_2])"
   ]
  },
  {
   "cell_type": "code",
   "execution_count": 106,
   "metadata": {
    "collapsed": true
   },
   "outputs": [],
   "source": [
    "dp = dp.rename(columns={'reference_date_as_of_1_july': 'year'})"
   ]
  },
  {
   "cell_type": "code",
   "execution_count": 107,
   "metadata": {
    "collapsed": false
   },
   "outputs": [],
   "source": [
    "dp = dp.set_index(['country_code', 'year', 'variant'])"
   ]
  },
  {
   "cell_type": "code",
   "execution_count": 108,
   "metadata": {
    "collapsed": false
   },
   "outputs": [],
   "source": [
    "for name, df in dp.iteritems():\n",
    "    path = os.path.join('../', 'ddf--datapoints--{}--by--country_code--year.csv'.format(name))\n",
    "    df.reset_index().sort_values(by=['country_code', 'year']).to_csv(path, index=False)"
   ]
  },
  {
   "cell_type": "code",
   "execution_count": null,
   "metadata": {
    "collapsed": true
   },
   "outputs": [],
   "source": []
  },
  {
   "cell_type": "code",
   "execution_count": null,
   "metadata": {
    "collapsed": true
   },
   "outputs": [],
   "source": []
  },
  {
   "cell_type": "code",
   "execution_count": null,
   "metadata": {
    "collapsed": true
   },
   "outputs": [],
   "source": []
  },
  {
   "cell_type": "code",
   "execution_count": null,
   "metadata": {
    "collapsed": true
   },
   "outputs": [],
   "source": []
  }
 ],
 "metadata": {
  "kernelspec": {
   "display_name": "Python 3",
   "language": "python",
   "name": "python3"
  },
  "language_info": {
   "codemirror_mode": {
    "name": "ipython",
    "version": 3
   },
   "file_extension": ".py",
   "mimetype": "text/x-python",
   "name": "python",
   "nbconvert_exporter": "python",
   "pygments_lexer": "ipython3",
   "version": "3.5.1"
  }
 },
 "nbformat": 4,
 "nbformat_minor": 0
}
