{
 "cells": [
  {
   "cell_type": "code",
   "execution_count": 1,
   "metadata": {
    "collapsed": false
   },
   "outputs": [],
   "source": [
    "import pandas as pd\n",
    "import numpy as np\n",
    "import re\n",
    "import os\n",
    "from ddf_utils.str import to_concept_id\n",
    "from ddf_utils.index import create_index_file"
   ]
  },
  {
   "cell_type": "code",
   "execution_count": 112,
   "metadata": {
    "collapsed": true
   },
   "outputs": [],
   "source": [
    "source_t = 'source/WPP2015_INT_F03_1_POPULATION_BY_AGE_ANNUAL_BOTH_SEXES.XLS'\n",
    "source_m = 'source/WPP2015_INT_F03_2_POPULATION_BY_AGE_ANNUAL_MALE.XLS'\n",
    "source_f = 'source/WPP2015_INT_F03_3_POPULATION_BY_AGE_ANNUAL_FEMALE.XLS'"
   ]
  },
  {
   "cell_type": "code",
   "execution_count": null,
   "metadata": {
    "collapsed": true
   },
   "outputs": [],
   "source": []
  },
  {
   "cell_type": "code",
   "execution_count": 118,
   "metadata": {
    "collapsed": true
   },
   "outputs": [],
   "source": [
    "def read_cleanup(source, gender):\n",
    "    data_est = pd.read_excel(source, sheetname='ESTIMATES', skiprows=16, na_values='…')\n",
    "    data_var = pd.read_excel(source, sheetname='MEDIUM VARIANT', skiprows=16, na_values='…')\n",
    "       \n",
    "    # rename/drop some columns.\n",
    "    # for 80+ and 100+ groups, rename to 80plus and 100plus\n",
    "    data_est = data_est.drop(['Index', 'Notes'], axis=1)\n",
    "    data_var = data_var.drop(['Index', 'Notes'], axis=1)\n",
    "\n",
    "    data_est = data_est.rename(columns={'80+': '80plus', \n",
    "                                        '100+': '100plus'})\n",
    "    data_var = data_var.rename(columns={'100+': '100plus'})  # todo: no use to rename for now.\n",
    "    \n",
    "    \n",
    "    \n",
    "    # insert Gender column and rearrange the order\n",
    "    col_est_1 = data_est.columns[:4]\n",
    "    col_est_2 = data_est.columns[4:]\n",
    "    \n",
    "    col_var_1 = data_var.columns[:4]\n",
    "    col_var_2 = data_var.columns[4:]\n",
    "    \n",
    "    cols_est = [*col_est_1, 'Gender', *col_est_2]\n",
    "    cols_var = [*col_var_1, 'Gender', *col_var_2]\n",
    "\n",
    "\n",
    "    data_est['Gender'] = gender\n",
    "    data_var['Gender'] = gender\n",
    "\n",
    "    return (data_est[cols_est], data_var[cols_var])"
   ]
  },
  {
   "cell_type": "code",
   "execution_count": null,
   "metadata": {
    "collapsed": true
   },
   "outputs": [],
   "source": []
  },
  {
   "cell_type": "code",
   "execution_count": 119,
   "metadata": {
    "collapsed": false
   },
   "outputs": [],
   "source": [
    "est_t, var_t = read_cleanup(source_t, 'both_sexes')"
   ]
  },
  {
   "cell_type": "code",
   "execution_count": 121,
   "metadata": {
    "collapsed": true
   },
   "outputs": [],
   "source": [
    "est_m, var_m = read_cleanup(source_m, 'both_sexes')"
   ]
  },
  {
   "cell_type": "code",
   "execution_count": 122,
   "metadata": {
    "collapsed": true
   },
   "outputs": [],
   "source": [
    "est_f, var_f = read_cleanup(source_f, 'both_sexes')"
   ]
  },
  {
   "cell_type": "code",
   "execution_count": null,
   "metadata": {
    "collapsed": true
   },
   "outputs": [],
   "source": []
  },
  {
   "cell_type": "code",
   "execution_count": 125,
   "metadata": {
    "collapsed": false
   },
   "outputs": [],
   "source": [
    "e1 = est_t.set_index([\n",
    "        'Variant', 'Major area, region, country or area *', \n",
    "        'Country code', 'Reference date (as of 1 July)', 'Gender'])"
   ]
  },
  {
   "cell_type": "code",
   "execution_count": 126,
   "metadata": {
    "collapsed": true
   },
   "outputs": [],
   "source": [
    "e1.columns.name = 'age'"
   ]
  },
  {
   "cell_type": "code",
   "execution_count": 135,
   "metadata": {
    "collapsed": true
   },
   "outputs": [],
   "source": [
    "to_concat = []\n",
    "\n",
    "for df in [est_t, var_t, est_m, var_m, est_f, var_f]:\n",
    "    e = est_t.set_index([\n",
    "        'Variant', 'Major area, region, country or area *', \n",
    "        'Country code', 'Reference date (as of 1 July)', 'Gender'])\n",
    "    e.columns.name = 'Age'\n",
    "    df_new = e.stack().reset_index().rename(columns={0: 'Population'})\n",
    "    to_concat.append(df_new)"
   ]
  },
  {
   "cell_type": "code",
   "execution_count": null,
   "metadata": {
    "collapsed": true
   },
   "outputs": [],
   "source": []
  },
  {
   "cell_type": "code",
   "execution_count": 140,
   "metadata": {
    "collapsed": true
   },
   "outputs": [],
   "source": [
    "df_all = pd.concat(to_concat)"
   ]
  },
  {
   "cell_type": "code",
   "execution_count": 141,
   "metadata": {
    "collapsed": false
   },
   "outputs": [],
   "source": [
    "df_all = df_all.drop('Major area, region, country or area *', axis=1)\n",
    "df_all = df_all.rename(columns={'Reference date (as of 1 July)': 'Year'})\n",
    "\n",
    "df_all.columns = list(map(to_concept_id, df_all.columns))"
   ]
  },
  {
   "cell_type": "code",
   "execution_count": 142,
   "metadata": {
    "collapsed": false
   },
   "outputs": [],
   "source": [
    "df_all = df_all.sort_values(by=['country_code', 'year', 'age', 'gender'])"
   ]
  },
  {
   "cell_type": "code",
   "execution_count": 144,
   "metadata": {
    "collapsed": false
   },
   "outputs": [],
   "source": [
    "df_all.to_csv('../ddf--datapoints--population--by--country_code--year--age--gender.csv', index=False)"
   ]
  },
  {
   "cell_type": "code",
   "execution_count": 145,
   "metadata": {
    "collapsed": false
   },
   "outputs": [
    {
     "data": {
      "text/html": [
       "<div>\n",
       "<table border=\"1\" class=\"dataframe\">\n",
       "  <thead>\n",
       "    <tr style=\"text-align: right;\">\n",
       "      <th></th>\n",
       "      <th>variant</th>\n",
       "      <th>country_code</th>\n",
       "      <th>year</th>\n",
       "      <th>gender</th>\n",
       "      <th>age</th>\n",
       "      <th>population</th>\n",
       "    </tr>\n",
       "  </thead>\n",
       "  <tbody>\n",
       "    <tr>\n",
       "      <th>545538</th>\n",
       "      <td>Estimates</td>\n",
       "      <td>4</td>\n",
       "      <td>1950</td>\n",
       "      <td>both_sexes</td>\n",
       "      <td>0</td>\n",
       "      <td>294.58</td>\n",
       "    </tr>\n",
       "    <tr>\n",
       "      <th>545538</th>\n",
       "      <td>Estimates</td>\n",
       "      <td>4</td>\n",
       "      <td>1950</td>\n",
       "      <td>both_sexes</td>\n",
       "      <td>0</td>\n",
       "      <td>294.58</td>\n",
       "    </tr>\n",
       "    <tr>\n",
       "      <th>545538</th>\n",
       "      <td>Estimates</td>\n",
       "      <td>4</td>\n",
       "      <td>1950</td>\n",
       "      <td>both_sexes</td>\n",
       "      <td>0</td>\n",
       "      <td>294.58</td>\n",
       "    </tr>\n",
       "    <tr>\n",
       "      <th>545538</th>\n",
       "      <td>Estimates</td>\n",
       "      <td>4</td>\n",
       "      <td>1950</td>\n",
       "      <td>both_sexes</td>\n",
       "      <td>0</td>\n",
       "      <td>294.58</td>\n",
       "    </tr>\n",
       "    <tr>\n",
       "      <th>545538</th>\n",
       "      <td>Estimates</td>\n",
       "      <td>4</td>\n",
       "      <td>1950</td>\n",
       "      <td>both_sexes</td>\n",
       "      <td>0</td>\n",
       "      <td>294.58</td>\n",
       "    </tr>\n",
       "  </tbody>\n",
       "</table>\n",
       "</div>"
      ],
      "text/plain": [
       "          variant  country_code  year      gender age  population\n",
       "545538  Estimates             4  1950  both_sexes   0      294.58\n",
       "545538  Estimates             4  1950  both_sexes   0      294.58\n",
       "545538  Estimates             4  1950  both_sexes   0      294.58\n",
       "545538  Estimates             4  1950  both_sexes   0      294.58\n",
       "545538  Estimates             4  1950  both_sexes   0      294.58"
      ]
     },
     "execution_count": 145,
     "metadata": {},
     "output_type": "execute_result"
    }
   ],
   "source": [
    "df_all.head()"
   ]
  },
  {
   "cell_type": "code",
   "execution_count": null,
   "metadata": {
    "collapsed": true
   },
   "outputs": [],
   "source": []
  },
  {
   "cell_type": "code",
   "execution_count": null,
   "metadata": {
    "collapsed": true
   },
   "outputs": [],
   "source": []
  },
  {
   "cell_type": "code",
   "execution_count": null,
   "metadata": {
    "collapsed": true
   },
   "outputs": [],
   "source": []
  },
  {
   "cell_type": "code",
   "execution_count": 146,
   "metadata": {
    "collapsed": false
   },
   "outputs": [],
   "source": [
    "e1 = e1.stack().reset_index()"
   ]
  },
  {
   "cell_type": "code",
   "execution_count": 148,
   "metadata": {
    "collapsed": false
   },
   "outputs": [],
   "source": [
    "e1 = e1.rename(columns={'Major area, region, country or area *': 'Name',\n",
    "                        0: 'Population'\n",
    "                       })\n",
    "\n",
    "concs = e1.columns\n",
    "\n",
    "e1.columns = list(map(to_concept_id, e1.columns))"
   ]
  },
  {
   "cell_type": "code",
   "execution_count": 151,
   "metadata": {
    "collapsed": false
   },
   "outputs": [],
   "source": [
    "e1 = e1.rename(columns={'reference_date_as_of_1_july': 'year'})"
   ]
  },
  {
   "cell_type": "code",
   "execution_count": null,
   "metadata": {
    "collapsed": true
   },
   "outputs": [],
   "source": []
  },
  {
   "cell_type": "code",
   "execution_count": 162,
   "metadata": {
    "collapsed": true
   },
   "outputs": [],
   "source": [
    "conc_df = pd.DataFrame([], columns=['concept', 'concept_type', 'name'])"
   ]
  },
  {
   "cell_type": "code",
   "execution_count": 163,
   "metadata": {
    "collapsed": true
   },
   "outputs": [],
   "source": [
    "conc_df['name'] = concs"
   ]
  },
  {
   "cell_type": "code",
   "execution_count": 165,
   "metadata": {
    "collapsed": true
   },
   "outputs": [],
   "source": [
    "conc_df['concept'] = e1.columns"
   ]
  },
  {
   "cell_type": "code",
   "execution_count": 167,
   "metadata": {
    "collapsed": true
   },
   "outputs": [],
   "source": [
    "conc_df['concept_type'] = 'string'\n",
    "\n",
    "conc_df['concept_type'].iloc[[2, 4, 5]] = 'entity_domain'\n",
    "\n",
    "conc_df['concept_type'].iloc[3] = 'time'\n",
    "\n",
    "conc_df['concept_type'].iloc[6] = 'measure'"
   ]
  },
  {
   "cell_type": "code",
   "execution_count": 168,
   "metadata": {
    "collapsed": false
   },
   "outputs": [
    {
     "data": {
      "text/html": [
       "<div>\n",
       "<table border=\"1\" class=\"dataframe\">\n",
       "  <thead>\n",
       "    <tr style=\"text-align: right;\">\n",
       "      <th></th>\n",
       "      <th>concept</th>\n",
       "      <th>concept_type</th>\n",
       "      <th>name</th>\n",
       "    </tr>\n",
       "  </thead>\n",
       "  <tbody>\n",
       "    <tr>\n",
       "      <th>0</th>\n",
       "      <td>variant</td>\n",
       "      <td>string</td>\n",
       "      <td>Variant</td>\n",
       "    </tr>\n",
       "    <tr>\n",
       "      <th>1</th>\n",
       "      <td>name</td>\n",
       "      <td>string</td>\n",
       "      <td>Name</td>\n",
       "    </tr>\n",
       "    <tr>\n",
       "      <th>2</th>\n",
       "      <td>country_code</td>\n",
       "      <td>entity_domain</td>\n",
       "      <td>Country code</td>\n",
       "    </tr>\n",
       "    <tr>\n",
       "      <th>3</th>\n",
       "      <td>year</td>\n",
       "      <td>time</td>\n",
       "      <td>Reference date (as of 1 July)</td>\n",
       "    </tr>\n",
       "    <tr>\n",
       "      <th>4</th>\n",
       "      <td>gender</td>\n",
       "      <td>entity_domain</td>\n",
       "      <td>Gender</td>\n",
       "    </tr>\n",
       "    <tr>\n",
       "      <th>5</th>\n",
       "      <td>age</td>\n",
       "      <td>entity_domain</td>\n",
       "      <td>age</td>\n",
       "    </tr>\n",
       "    <tr>\n",
       "      <th>6</th>\n",
       "      <td>population</td>\n",
       "      <td>measure</td>\n",
       "      <td>Population</td>\n",
       "    </tr>\n",
       "  </tbody>\n",
       "</table>\n",
       "</div>"
      ],
      "text/plain": [
       "        concept   concept_type                           name\n",
       "0       variant         string                        Variant\n",
       "1          name         string                           Name\n",
       "2  country_code  entity_domain                   Country code\n",
       "3          year           time  Reference date (as of 1 July)\n",
       "4        gender  entity_domain                         Gender\n",
       "5           age  entity_domain                            age\n",
       "6    population        measure                     Population"
      ]
     },
     "execution_count": 168,
     "metadata": {},
     "output_type": "execute_result"
    }
   ],
   "source": [
    "conc_df"
   ]
  },
  {
   "cell_type": "code",
   "execution_count": 169,
   "metadata": {
    "collapsed": true
   },
   "outputs": [],
   "source": [
    "conc_df.to_csv('../ddf--concepts.csv', index=False)"
   ]
  },
  {
   "cell_type": "code",
   "execution_count": null,
   "metadata": {
    "collapsed": true
   },
   "outputs": [],
   "source": []
  },
  {
   "cell_type": "code",
   "execution_count": 152,
   "metadata": {
    "collapsed": true
   },
   "outputs": [],
   "source": [
    "age = df_all['age'].unique()"
   ]
  },
  {
   "cell_type": "code",
   "execution_count": 154,
   "metadata": {
    "collapsed": false
   },
   "outputs": [],
   "source": [
    "age_df = pd.DataFrame([], columns=['age', 'name'])"
   ]
  },
  {
   "cell_type": "code",
   "execution_count": 155,
   "metadata": {
    "collapsed": true
   },
   "outputs": [],
   "source": [
    "age_df['age'] = age\n",
    "age_df['name'] = 'Age ' + age_df['age']"
   ]
  },
  {
   "cell_type": "code",
   "execution_count": 156,
   "metadata": {
    "collapsed": true
   },
   "outputs": [],
   "source": [
    "age_df.to_csv('../ddf--entities--age.csv', index=False)"
   ]
  },
  {
   "cell_type": "code",
   "execution_count": null,
   "metadata": {
    "collapsed": true
   },
   "outputs": [],
   "source": []
  },
  {
   "cell_type": "code",
   "execution_count": 159,
   "metadata": {
    "collapsed": false
   },
   "outputs": [],
   "source": [
    "gender = pd.DataFrame([], columns=['gender', 'name'])"
   ]
  },
  {
   "cell_type": "code",
   "execution_count": 160,
   "metadata": {
    "collapsed": true
   },
   "outputs": [],
   "source": [
    "gender['gender'] = ['both_sexes', 'male', 'female']\n",
    "gender['name'] = ['Both sexes', 'Male', 'Female']"
   ]
  },
  {
   "cell_type": "code",
   "execution_count": 161,
   "metadata": {
    "collapsed": true
   },
   "outputs": [],
   "source": [
    "gender.to_csv('../ddf--entities--gender.csv', index=False)"
   ]
  },
  {
   "cell_type": "code",
   "execution_count": null,
   "metadata": {
    "collapsed": true
   },
   "outputs": [],
   "source": []
  },
  {
   "cell_type": "code",
   "execution_count": null,
   "metadata": {
    "collapsed": true
   },
   "outputs": [],
   "source": []
  },
  {
   "cell_type": "code",
   "execution_count": null,
   "metadata": {
    "collapsed": true
   },
   "outputs": [],
   "source": []
  },
  {
   "cell_type": "code",
   "execution_count": null,
   "metadata": {
    "collapsed": true
   },
   "outputs": [],
   "source": []
  },
  {
   "cell_type": "code",
   "execution_count": null,
   "metadata": {
    "collapsed": true
   },
   "outputs": [],
   "source": []
  },
  {
   "cell_type": "code",
   "execution_count": 41,
   "metadata": {
    "collapsed": true
   },
   "outputs": [],
   "source": [
    "data_est = data_est.drop(['Index', 'Notes', '80+'], axis=1)"
   ]
  },
  {
   "cell_type": "code",
   "execution_count": null,
   "metadata": {
    "collapsed": true
   },
   "outputs": [],
   "source": [
    "data_var = data_var.drop(['Index', 'Notes'], axis=1)"
   ]
  },
  {
   "cell_type": "code",
   "execution_count": 11,
   "metadata": {
    "collapsed": false
   },
   "outputs": [
    {
     "data": {
      "text/html": [
       "<div>\n",
       "<table border=\"1\" class=\"dataframe\">\n",
       "  <thead>\n",
       "    <tr style=\"text-align: right;\">\n",
       "      <th></th>\n",
       "      <th>Index</th>\n",
       "      <th>Variant</th>\n",
       "      <th>Major area, region, country or area *</th>\n",
       "      <th>Notes</th>\n",
       "      <th>Country code</th>\n",
       "      <th>Reference date (as of 1 July)</th>\n",
       "      <th>0</th>\n",
       "      <th>1</th>\n",
       "      <th>2</th>\n",
       "      <th>3</th>\n",
       "      <th>...</th>\n",
       "      <th>91</th>\n",
       "      <th>92</th>\n",
       "      <th>93</th>\n",
       "      <th>94</th>\n",
       "      <th>95</th>\n",
       "      <th>96</th>\n",
       "      <th>97</th>\n",
       "      <th>98</th>\n",
       "      <th>99</th>\n",
       "      <th>100+</th>\n",
       "    </tr>\n",
       "  </thead>\n",
       "  <tbody>\n",
       "    <tr>\n",
       "      <th>0</th>\n",
       "      <td>1</td>\n",
       "      <td>Estimates</td>\n",
       "      <td>WORLD</td>\n",
       "      <td>NaN</td>\n",
       "      <td>900</td>\n",
       "      <td>1950</td>\n",
       "      <td>78116.685</td>\n",
       "      <td>71707.672</td>\n",
       "      <td>66449.346</td>\n",
       "      <td>62228.019</td>\n",
       "      <td>...</td>\n",
       "      <td>NaN</td>\n",
       "      <td>NaN</td>\n",
       "      <td>NaN</td>\n",
       "      <td>NaN</td>\n",
       "      <td>NaN</td>\n",
       "      <td>NaN</td>\n",
       "      <td>NaN</td>\n",
       "      <td>NaN</td>\n",
       "      <td>NaN</td>\n",
       "      <td>NaN</td>\n",
       "    </tr>\n",
       "    <tr>\n",
       "      <th>1</th>\n",
       "      <td>2</td>\n",
       "      <td>Estimates</td>\n",
       "      <td>WORLD</td>\n",
       "      <td>NaN</td>\n",
       "      <td>900</td>\n",
       "      <td>1951</td>\n",
       "      <td>81973.089</td>\n",
       "      <td>76250.302</td>\n",
       "      <td>70474.481</td>\n",
       "      <td>65672.988</td>\n",
       "      <td>...</td>\n",
       "      <td>NaN</td>\n",
       "      <td>NaN</td>\n",
       "      <td>NaN</td>\n",
       "      <td>NaN</td>\n",
       "      <td>NaN</td>\n",
       "      <td>NaN</td>\n",
       "      <td>NaN</td>\n",
       "      <td>NaN</td>\n",
       "      <td>NaN</td>\n",
       "      <td>NaN</td>\n",
       "    </tr>\n",
       "    <tr>\n",
       "      <th>2</th>\n",
       "      <td>3</td>\n",
       "      <td>Estimates</td>\n",
       "      <td>WORLD</td>\n",
       "      <td>NaN</td>\n",
       "      <td>900</td>\n",
       "      <td>1952</td>\n",
       "      <td>85085.460</td>\n",
       "      <td>79060.671</td>\n",
       "      <td>74351.359</td>\n",
       "      <td>69205.529</td>\n",
       "      <td>...</td>\n",
       "      <td>NaN</td>\n",
       "      <td>NaN</td>\n",
       "      <td>NaN</td>\n",
       "      <td>NaN</td>\n",
       "      <td>NaN</td>\n",
       "      <td>NaN</td>\n",
       "      <td>NaN</td>\n",
       "      <td>NaN</td>\n",
       "      <td>NaN</td>\n",
       "      <td>NaN</td>\n",
       "    </tr>\n",
       "    <tr>\n",
       "      <th>3</th>\n",
       "      <td>4</td>\n",
       "      <td>Estimates</td>\n",
       "      <td>WORLD</td>\n",
       "      <td>NaN</td>\n",
       "      <td>900</td>\n",
       "      <td>1953</td>\n",
       "      <td>87298.857</td>\n",
       "      <td>81532.381</td>\n",
       "      <td>76324.468</td>\n",
       "      <td>72491.108</td>\n",
       "      <td>...</td>\n",
       "      <td>NaN</td>\n",
       "      <td>NaN</td>\n",
       "      <td>NaN</td>\n",
       "      <td>NaN</td>\n",
       "      <td>NaN</td>\n",
       "      <td>NaN</td>\n",
       "      <td>NaN</td>\n",
       "      <td>NaN</td>\n",
       "      <td>NaN</td>\n",
       "      <td>NaN</td>\n",
       "    </tr>\n",
       "    <tr>\n",
       "      <th>4</th>\n",
       "      <td>5</td>\n",
       "      <td>Estimates</td>\n",
       "      <td>WORLD</td>\n",
       "      <td>NaN</td>\n",
       "      <td>900</td>\n",
       "      <td>1954</td>\n",
       "      <td>88613.869</td>\n",
       "      <td>83346.474</td>\n",
       "      <td>78486.514</td>\n",
       "      <td>74028.307</td>\n",
       "      <td>...</td>\n",
       "      <td>NaN</td>\n",
       "      <td>NaN</td>\n",
       "      <td>NaN</td>\n",
       "      <td>NaN</td>\n",
       "      <td>NaN</td>\n",
       "      <td>NaN</td>\n",
       "      <td>NaN</td>\n",
       "      <td>NaN</td>\n",
       "      <td>NaN</td>\n",
       "      <td>NaN</td>\n",
       "    </tr>\n",
       "  </tbody>\n",
       "</table>\n",
       "<p>5 rows × 108 columns</p>\n",
       "</div>"
      ],
      "text/plain": [
       "   Index    Variant Major area, region, country or area * Notes  Country code  \\\n",
       "0      1  Estimates                                 WORLD   NaN           900   \n",
       "1      2  Estimates                                 WORLD   NaN           900   \n",
       "2      3  Estimates                                 WORLD   NaN           900   \n",
       "3      4  Estimates                                 WORLD   NaN           900   \n",
       "4      5  Estimates                                 WORLD   NaN           900   \n",
       "\n",
       "   Reference date (as of 1 July)          0          1          2          3  \\\n",
       "0                           1950  78116.685  71707.672  66449.346  62228.019   \n",
       "1                           1951  81973.089  76250.302  70474.481  65672.988   \n",
       "2                           1952  85085.460  79060.671  74351.359  69205.529   \n",
       "3                           1953  87298.857  81532.381  76324.468  72491.108   \n",
       "4                           1954  88613.869  83346.474  78486.514  74028.307   \n",
       "\n",
       "   ...   91  92  93  94  95  96  97  98  99  100+  \n",
       "0  ...  NaN NaN NaN NaN NaN NaN NaN NaN NaN   NaN  \n",
       "1  ...  NaN NaN NaN NaN NaN NaN NaN NaN NaN   NaN  \n",
       "2  ...  NaN NaN NaN NaN NaN NaN NaN NaN NaN   NaN  \n",
       "3  ...  NaN NaN NaN NaN NaN NaN NaN NaN NaN   NaN  \n",
       "4  ...  NaN NaN NaN NaN NaN NaN NaN NaN NaN   NaN  \n",
       "\n",
       "[5 rows x 108 columns]"
      ]
     },
     "execution_count": 11,
     "metadata": {},
     "output_type": "execute_result"
    }
   ],
   "source": [
    "data_est.head()"
   ]
  },
  {
   "cell_type": "code",
   "execution_count": 14,
   "metadata": {
    "collapsed": false
   },
   "outputs": [
    {
     "data": {
      "text/html": [
       "<div>\n",
       "<table border=\"1\" class=\"dataframe\">\n",
       "  <thead>\n",
       "    <tr style=\"text-align: right;\">\n",
       "      <th></th>\n",
       "      <th>Index</th>\n",
       "      <th>Variant</th>\n",
       "      <th>Major area, region, country or area *</th>\n",
       "      <th>Notes</th>\n",
       "      <th>Country code</th>\n",
       "      <th>Reference date (as of 1 July)</th>\n",
       "      <th>0</th>\n",
       "      <th>1</th>\n",
       "      <th>2</th>\n",
       "      <th>3</th>\n",
       "      <th>...</th>\n",
       "      <th>91</th>\n",
       "      <th>92</th>\n",
       "      <th>93</th>\n",
       "      <th>94</th>\n",
       "      <th>95</th>\n",
       "      <th>96</th>\n",
       "      <th>97</th>\n",
       "      <th>98</th>\n",
       "      <th>99</th>\n",
       "      <th>100+</th>\n",
       "    </tr>\n",
       "  </thead>\n",
       "  <tbody>\n",
       "    <tr>\n",
       "      <th>20721</th>\n",
       "      <td>20722</td>\n",
       "      <td>Medium variant</td>\n",
       "      <td>Tonga</td>\n",
       "      <td>NaN</td>\n",
       "      <td>776</td>\n",
       "      <td>2096</td>\n",
       "      <td>1.968</td>\n",
       "      <td>1.969</td>\n",
       "      <td>1.965</td>\n",
       "      <td>1.962</td>\n",
       "      <td>...</td>\n",
       "      <td>0.522</td>\n",
       "      <td>0.450</td>\n",
       "      <td>0.384</td>\n",
       "      <td>0.326</td>\n",
       "      <td>0.275</td>\n",
       "      <td>0.214</td>\n",
       "      <td>0.167</td>\n",
       "      <td>0.131</td>\n",
       "      <td>0.103</td>\n",
       "      <td>0.240</td>\n",
       "    </tr>\n",
       "    <tr>\n",
       "      <th>20722</th>\n",
       "      <td>20723</td>\n",
       "      <td>Medium variant</td>\n",
       "      <td>Tonga</td>\n",
       "      <td>NaN</td>\n",
       "      <td>776</td>\n",
       "      <td>2097</td>\n",
       "      <td>1.957</td>\n",
       "      <td>1.957</td>\n",
       "      <td>1.961</td>\n",
       "      <td>1.959</td>\n",
       "      <td>...</td>\n",
       "      <td>0.538</td>\n",
       "      <td>0.470</td>\n",
       "      <td>0.401</td>\n",
       "      <td>0.339</td>\n",
       "      <td>0.285</td>\n",
       "      <td>0.238</td>\n",
       "      <td>0.178</td>\n",
       "      <td>0.139</td>\n",
       "      <td>0.111</td>\n",
       "      <td>0.257</td>\n",
       "    </tr>\n",
       "    <tr>\n",
       "      <th>20723</th>\n",
       "      <td>20724</td>\n",
       "      <td>Medium variant</td>\n",
       "      <td>Tonga</td>\n",
       "      <td>NaN</td>\n",
       "      <td>776</td>\n",
       "      <td>2098</td>\n",
       "      <td>1.944</td>\n",
       "      <td>1.947</td>\n",
       "      <td>1.947</td>\n",
       "      <td>1.953</td>\n",
       "      <td>...</td>\n",
       "      <td>0.551</td>\n",
       "      <td>0.484</td>\n",
       "      <td>0.418</td>\n",
       "      <td>0.351</td>\n",
       "      <td>0.294</td>\n",
       "      <td>0.244</td>\n",
       "      <td>0.201</td>\n",
       "      <td>0.149</td>\n",
       "      <td>0.117</td>\n",
       "      <td>0.273</td>\n",
       "    </tr>\n",
       "    <tr>\n",
       "      <th>20724</th>\n",
       "      <td>20725</td>\n",
       "      <td>Medium variant</td>\n",
       "      <td>Tonga</td>\n",
       "      <td>NaN</td>\n",
       "      <td>776</td>\n",
       "      <td>2099</td>\n",
       "      <td>1.930</td>\n",
       "      <td>1.933</td>\n",
       "      <td>1.938</td>\n",
       "      <td>1.940</td>\n",
       "      <td>...</td>\n",
       "      <td>0.555</td>\n",
       "      <td>0.493</td>\n",
       "      <td>0.429</td>\n",
       "      <td>0.367</td>\n",
       "      <td>0.302</td>\n",
       "      <td>0.247</td>\n",
       "      <td>0.203</td>\n",
       "      <td>0.165</td>\n",
       "      <td>0.125</td>\n",
       "      <td>0.289</td>\n",
       "    </tr>\n",
       "    <tr>\n",
       "      <th>20725</th>\n",
       "      <td>20726</td>\n",
       "      <td>Medium variant</td>\n",
       "      <td>Tonga</td>\n",
       "      <td>NaN</td>\n",
       "      <td>776</td>\n",
       "      <td>2100</td>\n",
       "      <td>1.911</td>\n",
       "      <td>1.917</td>\n",
       "      <td>1.925</td>\n",
       "      <td>1.928</td>\n",
       "      <td>...</td>\n",
       "      <td>0.555</td>\n",
       "      <td>0.497</td>\n",
       "      <td>0.436</td>\n",
       "      <td>0.375</td>\n",
       "      <td>0.314</td>\n",
       "      <td>0.253</td>\n",
       "      <td>0.202</td>\n",
       "      <td>0.162</td>\n",
       "      <td>0.128</td>\n",
       "      <td>0.307</td>\n",
       "    </tr>\n",
       "  </tbody>\n",
       "</table>\n",
       "<p>5 rows × 107 columns</p>\n",
       "</div>"
      ],
      "text/plain": [
       "       Index         Variant Major area, region, country or area * Notes  \\\n",
       "20721  20722  Medium variant                                 Tonga   NaN   \n",
       "20722  20723  Medium variant                                 Tonga   NaN   \n",
       "20723  20724  Medium variant                                 Tonga   NaN   \n",
       "20724  20725  Medium variant                                 Tonga   NaN   \n",
       "20725  20726  Medium variant                                 Tonga   NaN   \n",
       "\n",
       "       Country code  Reference date (as of 1 July)      0      1      2  \\\n",
       "20721           776                           2096  1.968  1.969  1.965   \n",
       "20722           776                           2097  1.957  1.957  1.961   \n",
       "20723           776                           2098  1.944  1.947  1.947   \n",
       "20724           776                           2099  1.930  1.933  1.938   \n",
       "20725           776                           2100  1.911  1.917  1.925   \n",
       "\n",
       "           3  ...       91     92     93     94     95     96     97     98  \\\n",
       "20721  1.962  ...    0.522  0.450  0.384  0.326  0.275  0.214  0.167  0.131   \n",
       "20722  1.959  ...    0.538  0.470  0.401  0.339  0.285  0.238  0.178  0.139   \n",
       "20723  1.953  ...    0.551  0.484  0.418  0.351  0.294  0.244  0.201  0.149   \n",
       "20724  1.940  ...    0.555  0.493  0.429  0.367  0.302  0.247  0.203  0.165   \n",
       "20725  1.928  ...    0.555  0.497  0.436  0.375  0.314  0.253  0.202  0.162   \n",
       "\n",
       "          99   100+  \n",
       "20721  0.103  0.240  \n",
       "20722  0.111  0.257  \n",
       "20723  0.117  0.273  \n",
       "20724  0.125  0.289  \n",
       "20725  0.128  0.307  \n",
       "\n",
       "[5 rows x 107 columns]"
      ]
     },
     "execution_count": 14,
     "metadata": {},
     "output_type": "execute_result"
    }
   ],
   "source": [
    "data_var.tail()"
   ]
  },
  {
   "cell_type": "code",
   "execution_count": null,
   "metadata": {
    "collapsed": true
   },
   "outputs": [],
   "source": []
  },
  {
   "cell_type": "code",
   "execution_count": 44,
   "metadata": {
    "collapsed": false
   },
   "outputs": [],
   "source": [
    "cols_1 = data_est.columns\n",
    "cols_new_1 = [*cols_1[:6], *(map(lambda x: 'Total Population aged '+ x + ' (Number)', cols_1[6:]))]"
   ]
  },
  {
   "cell_type": "code",
   "execution_count": 43,
   "metadata": {
    "collapsed": true
   },
   "outputs": [],
   "source": [
    "cols_2 = data_var.columns\n",
    "cols_new_2 = [*cols_2[:6], *(map(lambda x: 'Total Population aged '+ x + ' (Number)', cols_2[6:]))]"
   ]
  },
  {
   "cell_type": "code",
   "execution_count": null,
   "metadata": {
    "collapsed": true
   },
   "outputs": [],
   "source": []
  },
  {
   "cell_type": "code",
   "execution_count": 45,
   "metadata": {
    "collapsed": false
   },
   "outputs": [
    {
     "data": {
      "text/plain": [
       "True"
      ]
     },
     "execution_count": 45,
     "metadata": {},
     "output_type": "execute_result"
    }
   ],
   "source": [
    "cols_new_1 == cols_new_2"
   ]
  },
  {
   "cell_type": "code",
   "execution_count": null,
   "metadata": {
    "collapsed": true
   },
   "outputs": [],
   "source": []
  },
  {
   "cell_type": "code",
   "execution_count": 46,
   "metadata": {
    "collapsed": false
   },
   "outputs": [],
   "source": [
    "data_est.columns = cols_new_1\n",
    "data_var.columns = cols_new_2"
   ]
  },
  {
   "cell_type": "code",
   "execution_count": 47,
   "metadata": {
    "collapsed": false
   },
   "outputs": [],
   "source": [
    "data_est.columns = data_est.columns.map(to_concept_id)"
   ]
  },
  {
   "cell_type": "code",
   "execution_count": 48,
   "metadata": {
    "collapsed": false
   },
   "outputs": [],
   "source": [
    "data_est = data_est.drop(['index', 'notes'], axis=1)"
   ]
  },
  {
   "cell_type": "code",
   "execution_count": 54,
   "metadata": {
    "collapsed": false
   },
   "outputs": [],
   "source": [
    "data_est = data_est.rename(columns={'reference_date_as_of_1_july': 'year'})"
   ]
  },
  {
   "cell_type": "code",
   "execution_count": 55,
   "metadata": {
    "collapsed": false
   },
   "outputs": [
    {
     "data": {
      "text/html": [
       "<div>\n",
       "<table border=\"1\" class=\"dataframe\">\n",
       "  <thead>\n",
       "    <tr style=\"text-align: right;\">\n",
       "      <th></th>\n",
       "      <th>variant</th>\n",
       "      <th>major_area_region_country_or_area</th>\n",
       "      <th>country_code</th>\n",
       "      <th>year</th>\n",
       "      <th>total_population_aged_0_number</th>\n",
       "      <th>total_population_aged_1_number</th>\n",
       "      <th>total_population_aged_2_number</th>\n",
       "      <th>total_population_aged_3_number</th>\n",
       "      <th>total_population_aged_4_number</th>\n",
       "      <th>total_population_aged_5_number</th>\n",
       "      <th>...</th>\n",
       "      <th>total_population_aged_91_number</th>\n",
       "      <th>total_population_aged_92_number</th>\n",
       "      <th>total_population_aged_93_number</th>\n",
       "      <th>total_population_aged_94_number</th>\n",
       "      <th>total_population_aged_95_number</th>\n",
       "      <th>total_population_aged_96_number</th>\n",
       "      <th>total_population_aged_97_number</th>\n",
       "      <th>total_population_aged_98_number</th>\n",
       "      <th>total_population_aged_99_number</th>\n",
       "      <th>total_population_aged_100_number</th>\n",
       "    </tr>\n",
       "  </thead>\n",
       "  <tbody>\n",
       "    <tr>\n",
       "      <th>0</th>\n",
       "      <td>Estimates</td>\n",
       "      <td>WORLD</td>\n",
       "      <td>900</td>\n",
       "      <td>1950</td>\n",
       "      <td>78116.685</td>\n",
       "      <td>71707.672</td>\n",
       "      <td>66449.346</td>\n",
       "      <td>62228.019</td>\n",
       "      <td>58930.171</td>\n",
       "      <td>56442.125</td>\n",
       "      <td>...</td>\n",
       "      <td>NaN</td>\n",
       "      <td>NaN</td>\n",
       "      <td>NaN</td>\n",
       "      <td>NaN</td>\n",
       "      <td>NaN</td>\n",
       "      <td>NaN</td>\n",
       "      <td>NaN</td>\n",
       "      <td>NaN</td>\n",
       "      <td>NaN</td>\n",
       "      <td>NaN</td>\n",
       "    </tr>\n",
       "    <tr>\n",
       "      <th>1</th>\n",
       "      <td>Estimates</td>\n",
       "      <td>WORLD</td>\n",
       "      <td>900</td>\n",
       "      <td>1951</td>\n",
       "      <td>81973.089</td>\n",
       "      <td>76250.302</td>\n",
       "      <td>70474.481</td>\n",
       "      <td>65672.988</td>\n",
       "      <td>61757.344</td>\n",
       "      <td>58639.277</td>\n",
       "      <td>...</td>\n",
       "      <td>NaN</td>\n",
       "      <td>NaN</td>\n",
       "      <td>NaN</td>\n",
       "      <td>NaN</td>\n",
       "      <td>NaN</td>\n",
       "      <td>NaN</td>\n",
       "      <td>NaN</td>\n",
       "      <td>NaN</td>\n",
       "      <td>NaN</td>\n",
       "      <td>NaN</td>\n",
       "    </tr>\n",
       "    <tr>\n",
       "      <th>2</th>\n",
       "      <td>Estimates</td>\n",
       "      <td>WORLD</td>\n",
       "      <td>900</td>\n",
       "      <td>1952</td>\n",
       "      <td>85085.460</td>\n",
       "      <td>79060.671</td>\n",
       "      <td>74351.359</td>\n",
       "      <td>69205.529</td>\n",
       "      <td>64859.079</td>\n",
       "      <td>61248.694</td>\n",
       "      <td>...</td>\n",
       "      <td>NaN</td>\n",
       "      <td>NaN</td>\n",
       "      <td>NaN</td>\n",
       "      <td>NaN</td>\n",
       "      <td>NaN</td>\n",
       "      <td>NaN</td>\n",
       "      <td>NaN</td>\n",
       "      <td>NaN</td>\n",
       "      <td>NaN</td>\n",
       "      <td>NaN</td>\n",
       "    </tr>\n",
       "    <tr>\n",
       "      <th>3</th>\n",
       "      <td>Estimates</td>\n",
       "      <td>WORLD</td>\n",
       "      <td>900</td>\n",
       "      <td>1953</td>\n",
       "      <td>87298.857</td>\n",
       "      <td>81532.381</td>\n",
       "      <td>76324.468</td>\n",
       "      <td>72491.108</td>\n",
       "      <td>67974.254</td>\n",
       "      <td>64081.777</td>\n",
       "      <td>...</td>\n",
       "      <td>NaN</td>\n",
       "      <td>NaN</td>\n",
       "      <td>NaN</td>\n",
       "      <td>NaN</td>\n",
       "      <td>NaN</td>\n",
       "      <td>NaN</td>\n",
       "      <td>NaN</td>\n",
       "      <td>NaN</td>\n",
       "      <td>NaN</td>\n",
       "      <td>NaN</td>\n",
       "    </tr>\n",
       "    <tr>\n",
       "      <th>4</th>\n",
       "      <td>Estimates</td>\n",
       "      <td>WORLD</td>\n",
       "      <td>900</td>\n",
       "      <td>1954</td>\n",
       "      <td>88613.869</td>\n",
       "      <td>83346.474</td>\n",
       "      <td>78486.514</td>\n",
       "      <td>74028.307</td>\n",
       "      <td>70707.145</td>\n",
       "      <td>66815.402</td>\n",
       "      <td>...</td>\n",
       "      <td>NaN</td>\n",
       "      <td>NaN</td>\n",
       "      <td>NaN</td>\n",
       "      <td>NaN</td>\n",
       "      <td>NaN</td>\n",
       "      <td>NaN</td>\n",
       "      <td>NaN</td>\n",
       "      <td>NaN</td>\n",
       "      <td>NaN</td>\n",
       "      <td>NaN</td>\n",
       "    </tr>\n",
       "  </tbody>\n",
       "</table>\n",
       "<p>5 rows × 105 columns</p>\n",
       "</div>"
      ],
      "text/plain": [
       "     variant major_area_region_country_or_area  country_code  year  \\\n",
       "0  Estimates                             WORLD           900  1950   \n",
       "1  Estimates                             WORLD           900  1951   \n",
       "2  Estimates                             WORLD           900  1952   \n",
       "3  Estimates                             WORLD           900  1953   \n",
       "4  Estimates                             WORLD           900  1954   \n",
       "\n",
       "   total_population_aged_0_number  total_population_aged_1_number  \\\n",
       "0                       78116.685                       71707.672   \n",
       "1                       81973.089                       76250.302   \n",
       "2                       85085.460                       79060.671   \n",
       "3                       87298.857                       81532.381   \n",
       "4                       88613.869                       83346.474   \n",
       "\n",
       "   total_population_aged_2_number  total_population_aged_3_number  \\\n",
       "0                       66449.346                       62228.019   \n",
       "1                       70474.481                       65672.988   \n",
       "2                       74351.359                       69205.529   \n",
       "3                       76324.468                       72491.108   \n",
       "4                       78486.514                       74028.307   \n",
       "\n",
       "   total_population_aged_4_number  total_population_aged_5_number  \\\n",
       "0                       58930.171                       56442.125   \n",
       "1                       61757.344                       58639.277   \n",
       "2                       64859.079                       61248.694   \n",
       "3                       67974.254                       64081.777   \n",
       "4                       70707.145                       66815.402   \n",
       "\n",
       "                 ...                 total_population_aged_91_number  \\\n",
       "0                ...                                             NaN   \n",
       "1                ...                                             NaN   \n",
       "2                ...                                             NaN   \n",
       "3                ...                                             NaN   \n",
       "4                ...                                             NaN   \n",
       "\n",
       "   total_population_aged_92_number  total_population_aged_93_number  \\\n",
       "0                              NaN                              NaN   \n",
       "1                              NaN                              NaN   \n",
       "2                              NaN                              NaN   \n",
       "3                              NaN                              NaN   \n",
       "4                              NaN                              NaN   \n",
       "\n",
       "   total_population_aged_94_number  total_population_aged_95_number  \\\n",
       "0                              NaN                              NaN   \n",
       "1                              NaN                              NaN   \n",
       "2                              NaN                              NaN   \n",
       "3                              NaN                              NaN   \n",
       "4                              NaN                              NaN   \n",
       "\n",
       "   total_population_aged_96_number  total_population_aged_97_number  \\\n",
       "0                              NaN                              NaN   \n",
       "1                              NaN                              NaN   \n",
       "2                              NaN                              NaN   \n",
       "3                              NaN                              NaN   \n",
       "4                              NaN                              NaN   \n",
       "\n",
       "   total_population_aged_98_number  total_population_aged_99_number  \\\n",
       "0                              NaN                              NaN   \n",
       "1                              NaN                              NaN   \n",
       "2                              NaN                              NaN   \n",
       "3                              NaN                              NaN   \n",
       "4                              NaN                              NaN   \n",
       "\n",
       "   total_population_aged_100_number  \n",
       "0                               NaN  \n",
       "1                               NaN  \n",
       "2                               NaN  \n",
       "3                               NaN  \n",
       "4                               NaN  \n",
       "\n",
       "[5 rows x 105 columns]"
      ]
     },
     "execution_count": 55,
     "metadata": {},
     "output_type": "execute_result"
    }
   ],
   "source": [
    "data_est.head()"
   ]
  },
  {
   "cell_type": "code",
   "execution_count": null,
   "metadata": {
    "collapsed": true
   },
   "outputs": [],
   "source": []
  },
  {
   "cell_type": "code",
   "execution_count": 50,
   "metadata": {
    "collapsed": true
   },
   "outputs": [],
   "source": [
    "data_var.columns = data_var.columns.map(to_concept_id)\n",
    "data_var = data_var.drop(['index', 'notes'], axis=1)"
   ]
  },
  {
   "cell_type": "code",
   "execution_count": 56,
   "metadata": {
    "collapsed": true
   },
   "outputs": [],
   "source": [
    "data_var = data_var.rename(columns={'reference_date_as_of_1_july': 'year'})"
   ]
  },
  {
   "cell_type": "code",
   "execution_count": null,
   "metadata": {
    "collapsed": true
   },
   "outputs": [],
   "source": []
  },
  {
   "cell_type": "code",
   "execution_count": null,
   "metadata": {
    "collapsed": true
   },
   "outputs": [],
   "source": []
  },
  {
   "cell_type": "code",
   "execution_count": null,
   "metadata": {
    "collapsed": true
   },
   "outputs": [],
   "source": []
  },
  {
   "cell_type": "code",
   "execution_count": 95,
   "metadata": {
    "collapsed": true
   },
   "outputs": [],
   "source": [
    "concs = pd.DataFrame([], columns=['name', 'concept'])"
   ]
  },
  {
   "cell_type": "code",
   "execution_count": 61,
   "metadata": {
    "collapsed": false
   },
   "outputs": [],
   "source": [
    "cols_new_1.remove('Index')"
   ]
  },
  {
   "cell_type": "code",
   "execution_count": 62,
   "metadata": {
    "collapsed": true
   },
   "outputs": [],
   "source": [
    "cols_new_1.remove('Notes')"
   ]
  },
  {
   "cell_type": "code",
   "execution_count": 96,
   "metadata": {
    "collapsed": false
   },
   "outputs": [],
   "source": [
    "concs['name'] = cols_new_1"
   ]
  },
  {
   "cell_type": "code",
   "execution_count": 97,
   "metadata": {
    "collapsed": false
   },
   "outputs": [],
   "source": [
    "concs['concept'] = data_est.columns"
   ]
  },
  {
   "cell_type": "code",
   "execution_count": 98,
   "metadata": {
    "collapsed": false
   },
   "outputs": [],
   "source": [
    "concs['concept_type'] = 'string'\n",
    "\n",
    "concs['concept_type'].iloc[2] = 'entity_domain'\n",
    "concs['concept_type'].iloc[3] = 'time'\n",
    "concs['concept_type'].iloc[4:] = 'measure'"
   ]
  },
  {
   "cell_type": "code",
   "execution_count": 104,
   "metadata": {
    "collapsed": false
   },
   "outputs": [],
   "source": [
    "concs['unit'] = 'thousands'\n",
    "\n",
    "concs.loc[:3, 'unit'] = np.nan"
   ]
  },
  {
   "cell_type": "code",
   "execution_count": 106,
   "metadata": {
    "collapsed": false
   },
   "outputs": [],
   "source": [
    "concs = concs.append(pd.DataFrame([\n",
    "            ['unit', 'Unit', 'string', np.nan], \n",
    "            ['name', 'Name', 'string', np.nan]], columns=concs.columns))"
   ]
  },
  {
   "cell_type": "code",
   "execution_count": 107,
   "metadata": {
    "collapsed": false
   },
   "outputs": [
    {
     "data": {
      "text/html": [
       "<div>\n",
       "<table border=\"1\" class=\"dataframe\">\n",
       "  <thead>\n",
       "    <tr style=\"text-align: right;\">\n",
       "      <th></th>\n",
       "      <th>name</th>\n",
       "      <th>concept</th>\n",
       "      <th>concept_type</th>\n",
       "      <th>unit</th>\n",
       "    </tr>\n",
       "  </thead>\n",
       "  <tbody>\n",
       "    <tr>\n",
       "      <th>0</th>\n",
       "      <td>Variant</td>\n",
       "      <td>variant</td>\n",
       "      <td>string</td>\n",
       "      <td>NaN</td>\n",
       "    </tr>\n",
       "    <tr>\n",
       "      <th>0</th>\n",
       "      <td>unit</td>\n",
       "      <td>Unit</td>\n",
       "      <td>string</td>\n",
       "      <td>NaN</td>\n",
       "    </tr>\n",
       "    <tr>\n",
       "      <th>1</th>\n",
       "      <td>name</td>\n",
       "      <td>Name</td>\n",
       "      <td>string</td>\n",
       "      <td>NaN</td>\n",
       "    </tr>\n",
       "    <tr>\n",
       "      <th>1</th>\n",
       "      <td>Major area, region, country or area *</td>\n",
       "      <td>major_area_region_country_or_area</td>\n",
       "      <td>string</td>\n",
       "      <td>NaN</td>\n",
       "    </tr>\n",
       "    <tr>\n",
       "      <th>2</th>\n",
       "      <td>Country code</td>\n",
       "      <td>country_code</td>\n",
       "      <td>entity_domain</td>\n",
       "      <td>NaN</td>\n",
       "    </tr>\n",
       "    <tr>\n",
       "      <th>3</th>\n",
       "      <td>Reference date (as of 1 July)</td>\n",
       "      <td>year</td>\n",
       "      <td>time</td>\n",
       "      <td>NaN</td>\n",
       "    </tr>\n",
       "    <tr>\n",
       "      <th>4</th>\n",
       "      <td>Total Population aged 0 (Number)</td>\n",
       "      <td>total_population_aged_0_number</td>\n",
       "      <td>measure</td>\n",
       "      <td>thousands</td>\n",
       "    </tr>\n",
       "    <tr>\n",
       "      <th>5</th>\n",
       "      <td>Total Population aged 1 (Number)</td>\n",
       "      <td>total_population_aged_1_number</td>\n",
       "      <td>measure</td>\n",
       "      <td>thousands</td>\n",
       "    </tr>\n",
       "    <tr>\n",
       "      <th>6</th>\n",
       "      <td>Total Population aged 2 (Number)</td>\n",
       "      <td>total_population_aged_2_number</td>\n",
       "      <td>measure</td>\n",
       "      <td>thousands</td>\n",
       "    </tr>\n",
       "    <tr>\n",
       "      <th>7</th>\n",
       "      <td>Total Population aged 3 (Number)</td>\n",
       "      <td>total_population_aged_3_number</td>\n",
       "      <td>measure</td>\n",
       "      <td>thousands</td>\n",
       "    </tr>\n",
       "    <tr>\n",
       "      <th>8</th>\n",
       "      <td>Total Population aged 4 (Number)</td>\n",
       "      <td>total_population_aged_4_number</td>\n",
       "      <td>measure</td>\n",
       "      <td>thousands</td>\n",
       "    </tr>\n",
       "    <tr>\n",
       "      <th>9</th>\n",
       "      <td>Total Population aged 5 (Number)</td>\n",
       "      <td>total_population_aged_5_number</td>\n",
       "      <td>measure</td>\n",
       "      <td>thousands</td>\n",
       "    </tr>\n",
       "    <tr>\n",
       "      <th>10</th>\n",
       "      <td>Total Population aged 6 (Number)</td>\n",
       "      <td>total_population_aged_6_number</td>\n",
       "      <td>measure</td>\n",
       "      <td>thousands</td>\n",
       "    </tr>\n",
       "    <tr>\n",
       "      <th>11</th>\n",
       "      <td>Total Population aged 7 (Number)</td>\n",
       "      <td>total_population_aged_7_number</td>\n",
       "      <td>measure</td>\n",
       "      <td>thousands</td>\n",
       "    </tr>\n",
       "    <tr>\n",
       "      <th>12</th>\n",
       "      <td>Total Population aged 8 (Number)</td>\n",
       "      <td>total_population_aged_8_number</td>\n",
       "      <td>measure</td>\n",
       "      <td>thousands</td>\n",
       "    </tr>\n",
       "    <tr>\n",
       "      <th>13</th>\n",
       "      <td>Total Population aged 9 (Number)</td>\n",
       "      <td>total_population_aged_9_number</td>\n",
       "      <td>measure</td>\n",
       "      <td>thousands</td>\n",
       "    </tr>\n",
       "    <tr>\n",
       "      <th>14</th>\n",
       "      <td>Total Population aged 10 (Number)</td>\n",
       "      <td>total_population_aged_10_number</td>\n",
       "      <td>measure</td>\n",
       "      <td>thousands</td>\n",
       "    </tr>\n",
       "    <tr>\n",
       "      <th>15</th>\n",
       "      <td>Total Population aged 11 (Number)</td>\n",
       "      <td>total_population_aged_11_number</td>\n",
       "      <td>measure</td>\n",
       "      <td>thousands</td>\n",
       "    </tr>\n",
       "    <tr>\n",
       "      <th>16</th>\n",
       "      <td>Total Population aged 12 (Number)</td>\n",
       "      <td>total_population_aged_12_number</td>\n",
       "      <td>measure</td>\n",
       "      <td>thousands</td>\n",
       "    </tr>\n",
       "    <tr>\n",
       "      <th>17</th>\n",
       "      <td>Total Population aged 13 (Number)</td>\n",
       "      <td>total_population_aged_13_number</td>\n",
       "      <td>measure</td>\n",
       "      <td>thousands</td>\n",
       "    </tr>\n",
       "  </tbody>\n",
       "</table>\n",
       "</div>"
      ],
      "text/plain": [
       "                                     name                            concept  \\\n",
       "0                                 Variant                            variant   \n",
       "0                                    unit                               Unit   \n",
       "1                                    name                               Name   \n",
       "1   Major area, region, country or area *  major_area_region_country_or_area   \n",
       "2                            Country code                       country_code   \n",
       "3           Reference date (as of 1 July)                               year   \n",
       "4        Total Population aged 0 (Number)     total_population_aged_0_number   \n",
       "5        Total Population aged 1 (Number)     total_population_aged_1_number   \n",
       "6        Total Population aged 2 (Number)     total_population_aged_2_number   \n",
       "7        Total Population aged 3 (Number)     total_population_aged_3_number   \n",
       "8        Total Population aged 4 (Number)     total_population_aged_4_number   \n",
       "9        Total Population aged 5 (Number)     total_population_aged_5_number   \n",
       "10       Total Population aged 6 (Number)     total_population_aged_6_number   \n",
       "11       Total Population aged 7 (Number)     total_population_aged_7_number   \n",
       "12       Total Population aged 8 (Number)     total_population_aged_8_number   \n",
       "13       Total Population aged 9 (Number)     total_population_aged_9_number   \n",
       "14      Total Population aged 10 (Number)    total_population_aged_10_number   \n",
       "15      Total Population aged 11 (Number)    total_population_aged_11_number   \n",
       "16      Total Population aged 12 (Number)    total_population_aged_12_number   \n",
       "17      Total Population aged 13 (Number)    total_population_aged_13_number   \n",
       "\n",
       "     concept_type       unit  \n",
       "0          string        NaN  \n",
       "0          string        NaN  \n",
       "1          string        NaN  \n",
       "1          string        NaN  \n",
       "2   entity_domain        NaN  \n",
       "3            time        NaN  \n",
       "4         measure  thousands  \n",
       "5         measure  thousands  \n",
       "6         measure  thousands  \n",
       "7         measure  thousands  \n",
       "8         measure  thousands  \n",
       "9         measure  thousands  \n",
       "10        measure  thousands  \n",
       "11        measure  thousands  \n",
       "12        measure  thousands  \n",
       "13        measure  thousands  \n",
       "14        measure  thousands  \n",
       "15        measure  thousands  \n",
       "16        measure  thousands  \n",
       "17        measure  thousands  "
      ]
     },
     "execution_count": 107,
     "metadata": {},
     "output_type": "execute_result"
    }
   ],
   "source": [
    "concs.sort_index().head(20)"
   ]
  },
  {
   "cell_type": "code",
   "execution_count": 85,
   "metadata": {
    "collapsed": false
   },
   "outputs": [],
   "source": [
    "concs.sort_index().to_csv('../ddf--concepts.csv', index=False)"
   ]
  },
  {
   "cell_type": "code",
   "execution_count": null,
   "metadata": {
    "collapsed": true
   },
   "outputs": [],
   "source": []
  },
  {
   "cell_type": "code",
   "execution_count": null,
   "metadata": {
    "collapsed": true
   },
   "outputs": [],
   "source": []
  },
  {
   "cell_type": "code",
   "execution_count": null,
   "metadata": {
    "collapsed": true
   },
   "outputs": [],
   "source": []
  },
  {
   "cell_type": "code",
   "execution_count": null,
   "metadata": {
    "collapsed": true
   },
   "outputs": [],
   "source": []
  },
  {
   "cell_type": "code",
   "execution_count": 77,
   "metadata": {
    "collapsed": true
   },
   "outputs": [],
   "source": [
    "# country"
   ]
  },
  {
   "cell_type": "code",
   "execution_count": 74,
   "metadata": {
    "collapsed": true
   },
   "outputs": [],
   "source": [
    "entity = data_est[['major_area_region_country_or_area', 'country_code']]"
   ]
  },
  {
   "cell_type": "code",
   "execution_count": 82,
   "metadata": {
    "collapsed": true
   },
   "outputs": [],
   "source": [
    "entity = entity.rename(columns={'major_area_region_country_or_area': 'name'})"
   ]
  },
  {
   "cell_type": "code",
   "execution_count": 157,
   "metadata": {
    "collapsed": false
   },
   "outputs": [],
   "source": [
    "entity.drop_duplicates().to_csv('../ddf--entities--country_code.csv', index=False)"
   ]
  },
  {
   "cell_type": "code",
   "execution_count": null,
   "metadata": {
    "collapsed": true
   },
   "outputs": [],
   "source": []
  },
  {
   "cell_type": "code",
   "execution_count": 87,
   "metadata": {
    "collapsed": false
   },
   "outputs": [
    {
     "data": {
      "text/plain": [
       "241"
      ]
     },
     "execution_count": 87,
     "metadata": {},
     "output_type": "execute_result"
    }
   ],
   "source": [
    "len(entity.drop_duplicates())"
   ]
  },
  {
   "cell_type": "code",
   "execution_count": 88,
   "metadata": {
    "collapsed": false
   },
   "outputs": [
    {
     "data": {
      "text/plain": [
       "241"
      ]
     },
     "execution_count": 88,
     "metadata": {},
     "output_type": "execute_result"
    }
   ],
   "source": [
    "len(data_var[['major_area_region_country_or_area', 'country_code']].drop_duplicates())"
   ]
  },
  {
   "cell_type": "code",
   "execution_count": null,
   "metadata": {
    "collapsed": true
   },
   "outputs": [],
   "source": []
  },
  {
   "cell_type": "code",
   "execution_count": null,
   "metadata": {
    "collapsed": true
   },
   "outputs": [],
   "source": []
  },
  {
   "cell_type": "code",
   "execution_count": 83,
   "metadata": {
    "collapsed": true
   },
   "outputs": [],
   "source": [
    "# data point"
   ]
  },
  {
   "cell_type": "code",
   "execution_count": 76,
   "metadata": {
    "collapsed": false
   },
   "outputs": [],
   "source": [
    "dp_1 = data_est.drop('major_area_region_country_or_area', axis=1)\n",
    "dp_2 = data_var.drop('major_area_region_country_or_area', axis=1)"
   ]
  },
  {
   "cell_type": "code",
   "execution_count": 77,
   "metadata": {
    "collapsed": true
   },
   "outputs": [],
   "source": [
    "dp = pd.concat([dp_1, dp_2])"
   ]
  },
  {
   "cell_type": "code",
   "execution_count": 79,
   "metadata": {
    "collapsed": false
   },
   "outputs": [],
   "source": [
    "dp = dp.set_index(['country_code', 'year', 'variant'])"
   ]
  },
  {
   "cell_type": "code",
   "execution_count": 89,
   "metadata": {
    "collapsed": false
   },
   "outputs": [],
   "source": [
    "for name, df in dp.iteritems():\n",
    "    path = os.path.join('../', 'ddf--datapoints--{}--by--country_code--year.csv'.format(name))\n",
    "    df.reset_index().sort_values(by=['country_code', 'year']).dropna().to_csv(path, index=False)"
   ]
  },
  {
   "cell_type": "code",
   "execution_count": null,
   "metadata": {
    "collapsed": true
   },
   "outputs": [],
   "source": []
  },
  {
   "cell_type": "code",
   "execution_count": 170,
   "metadata": {
    "collapsed": false
   },
   "outputs": [
    {
     "data": {
      "text/html": [
       "<div>\n",
       "<table border=\"1\" class=\"dataframe\">\n",
       "  <thead>\n",
       "    <tr style=\"text-align: right;\">\n",
       "      <th></th>\n",
       "      <th>key</th>\n",
       "      <th>value</th>\n",
       "      <th>file</th>\n",
       "    </tr>\n",
       "  </thead>\n",
       "  <tbody>\n",
       "    <tr>\n",
       "      <th>0</th>\n",
       "      <td>concept</td>\n",
       "      <td>concept_type</td>\n",
       "      <td>ddf--concepts.csv</td>\n",
       "    </tr>\n",
       "    <tr>\n",
       "      <th>1</th>\n",
       "      <td>concept</td>\n",
       "      <td>name</td>\n",
       "      <td>ddf--concepts.csv</td>\n",
       "    </tr>\n",
       "    <tr>\n",
       "      <th>0</th>\n",
       "      <td>country_code,year,gender,age</td>\n",
       "      <td>population</td>\n",
       "      <td>ddf--datapoints--population--by--country_code-...</td>\n",
       "    </tr>\n",
       "    <tr>\n",
       "      <th>0</th>\n",
       "      <td>age</td>\n",
       "      <td>name</td>\n",
       "      <td>ddf--entities--age.csv</td>\n",
       "    </tr>\n",
       "    <tr>\n",
       "      <th>0</th>\n",
       "      <td>country_code</td>\n",
       "      <td>name</td>\n",
       "      <td>ddf--entities--country_code.csv</td>\n",
       "    </tr>\n",
       "    <tr>\n",
       "      <th>0</th>\n",
       "      <td>gender</td>\n",
       "      <td>name</td>\n",
       "      <td>ddf--entities--gender.csv</td>\n",
       "    </tr>\n",
       "  </tbody>\n",
       "</table>\n",
       "</div>"
      ],
      "text/plain": [
       "                            key         value  \\\n",
       "0                       concept  concept_type   \n",
       "1                       concept          name   \n",
       "0  country_code,year,gender,age    population   \n",
       "0                           age          name   \n",
       "0                  country_code          name   \n",
       "0                        gender          name   \n",
       "\n",
       "                                                file  \n",
       "0                                  ddf--concepts.csv  \n",
       "1                                  ddf--concepts.csv  \n",
       "0  ddf--datapoints--population--by--country_code-...  \n",
       "0                             ddf--entities--age.csv  \n",
       "0                    ddf--entities--country_code.csv  \n",
       "0                          ddf--entities--gender.csv  "
      ]
     },
     "execution_count": 170,
     "metadata": {},
     "output_type": "execute_result"
    }
   ],
   "source": [
    "create_index_file('../')"
   ]
  },
  {
   "cell_type": "code",
   "execution_count": null,
   "metadata": {
    "collapsed": true
   },
   "outputs": [],
   "source": []
  },
  {
   "cell_type": "code",
   "execution_count": null,
   "metadata": {
    "collapsed": true
   },
   "outputs": [],
   "source": []
  },
  {
   "cell_type": "code",
   "execution_count": null,
   "metadata": {
    "collapsed": true
   },
   "outputs": [],
   "source": []
  },
  {
   "cell_type": "code",
   "execution_count": null,
   "metadata": {
    "collapsed": true
   },
   "outputs": [],
   "source": []
  },
  {
   "cell_type": "code",
   "execution_count": null,
   "metadata": {
    "collapsed": true
   },
   "outputs": [],
   "source": []
  },
  {
   "cell_type": "code",
   "execution_count": 168,
   "metadata": {
    "collapsed": true
   },
   "outputs": [],
   "source": [
    "from ddf_utils import ddf_reader as ddf"
   ]
  },
  {
   "cell_type": "code",
   "execution_count": 169,
   "metadata": {
    "collapsed": true
   },
   "outputs": [],
   "source": [
    "ddf.SEARCH_PATH = '/Users/semio/src/work/Gapminder/'"
   ]
  },
  {
   "cell_type": "code",
   "execution_count": 177,
   "metadata": {
    "collapsed": false
   },
   "outputs": [
    {
     "data": {
      "text/html": [
       "<div>\n",
       "<table border=\"1\" class=\"dataframe\">\n",
       "  <thead>\n",
       "    <tr style=\"text-align: right;\">\n",
       "      <th></th>\n",
       "      <th>geo</th>\n",
       "      <th>crude_birth_rate_births_per_1000_population</th>\n",
       "      <th>time</th>\n",
       "    </tr>\n",
       "  </thead>\n",
       "  <tbody>\n",
       "    <tr>\n",
       "      <th>0</th>\n",
       "      <td>afg</td>\n",
       "      <td>48.14</td>\n",
       "      <td>1800</td>\n",
       "    </tr>\n",
       "    <tr>\n",
       "      <th>1</th>\n",
       "      <td>afg</td>\n",
       "      <td>48.14</td>\n",
       "      <td>1801</td>\n",
       "    </tr>\n",
       "    <tr>\n",
       "      <th>2</th>\n",
       "      <td>afg</td>\n",
       "      <td>48.14</td>\n",
       "      <td>1802</td>\n",
       "    </tr>\n",
       "    <tr>\n",
       "      <th>3</th>\n",
       "      <td>afg</td>\n",
       "      <td>48.14</td>\n",
       "      <td>1803</td>\n",
       "    </tr>\n",
       "    <tr>\n",
       "      <th>4</th>\n",
       "      <td>afg</td>\n",
       "      <td>48.14</td>\n",
       "      <td>1804</td>\n",
       "    </tr>\n",
       "    <tr>\n",
       "      <th>5</th>\n",
       "      <td>afg</td>\n",
       "      <td>48.14</td>\n",
       "      <td>1805</td>\n",
       "    </tr>\n",
       "    <tr>\n",
       "      <th>6</th>\n",
       "      <td>afg</td>\n",
       "      <td>48.14</td>\n",
       "      <td>1806</td>\n",
       "    </tr>\n",
       "    <tr>\n",
       "      <th>7</th>\n",
       "      <td>afg</td>\n",
       "      <td>48.14</td>\n",
       "      <td>1807</td>\n",
       "    </tr>\n",
       "    <tr>\n",
       "      <th>8</th>\n",
       "      <td>afg</td>\n",
       "      <td>48.14</td>\n",
       "      <td>1808</td>\n",
       "    </tr>\n",
       "    <tr>\n",
       "      <th>9</th>\n",
       "      <td>afg</td>\n",
       "      <td>48.14</td>\n",
       "      <td>1809</td>\n",
       "    </tr>\n",
       "    <tr>\n",
       "      <th>10</th>\n",
       "      <td>afg</td>\n",
       "      <td>48.14</td>\n",
       "      <td>1810</td>\n",
       "    </tr>\n",
       "    <tr>\n",
       "      <th>11</th>\n",
       "      <td>afg</td>\n",
       "      <td>48.14</td>\n",
       "      <td>1811</td>\n",
       "    </tr>\n",
       "    <tr>\n",
       "      <th>12</th>\n",
       "      <td>afg</td>\n",
       "      <td>48.14</td>\n",
       "      <td>1812</td>\n",
       "    </tr>\n",
       "    <tr>\n",
       "      <th>13</th>\n",
       "      <td>afg</td>\n",
       "      <td>48.14</td>\n",
       "      <td>1813</td>\n",
       "    </tr>\n",
       "    <tr>\n",
       "      <th>14</th>\n",
       "      <td>afg</td>\n",
       "      <td>48.14</td>\n",
       "      <td>1814</td>\n",
       "    </tr>\n",
       "    <tr>\n",
       "      <th>15</th>\n",
       "      <td>afg</td>\n",
       "      <td>48.14</td>\n",
       "      <td>1815</td>\n",
       "    </tr>\n",
       "    <tr>\n",
       "      <th>16</th>\n",
       "      <td>afg</td>\n",
       "      <td>48.14</td>\n",
       "      <td>1816</td>\n",
       "    </tr>\n",
       "    <tr>\n",
       "      <th>17</th>\n",
       "      <td>afg</td>\n",
       "      <td>48.14</td>\n",
       "      <td>1817</td>\n",
       "    </tr>\n",
       "    <tr>\n",
       "      <th>18</th>\n",
       "      <td>afg</td>\n",
       "      <td>48.14</td>\n",
       "      <td>1818</td>\n",
       "    </tr>\n",
       "    <tr>\n",
       "      <th>19</th>\n",
       "      <td>afg</td>\n",
       "      <td>48.14</td>\n",
       "      <td>1819</td>\n",
       "    </tr>\n",
       "    <tr>\n",
       "      <th>20</th>\n",
       "      <td>afg</td>\n",
       "      <td>48.14</td>\n",
       "      <td>1820</td>\n",
       "    </tr>\n",
       "    <tr>\n",
       "      <th>21</th>\n",
       "      <td>afg</td>\n",
       "      <td>48.14</td>\n",
       "      <td>1821</td>\n",
       "    </tr>\n",
       "    <tr>\n",
       "      <th>22</th>\n",
       "      <td>afg</td>\n",
       "      <td>48.14</td>\n",
       "      <td>1822</td>\n",
       "    </tr>\n",
       "    <tr>\n",
       "      <th>23</th>\n",
       "      <td>afg</td>\n",
       "      <td>48.14</td>\n",
       "      <td>1823</td>\n",
       "    </tr>\n",
       "    <tr>\n",
       "      <th>24</th>\n",
       "      <td>afg</td>\n",
       "      <td>48.14</td>\n",
       "      <td>1824</td>\n",
       "    </tr>\n",
       "    <tr>\n",
       "      <th>25</th>\n",
       "      <td>afg</td>\n",
       "      <td>48.14</td>\n",
       "      <td>1825</td>\n",
       "    </tr>\n",
       "    <tr>\n",
       "      <th>26</th>\n",
       "      <td>afg</td>\n",
       "      <td>48.14</td>\n",
       "      <td>1826</td>\n",
       "    </tr>\n",
       "    <tr>\n",
       "      <th>27</th>\n",
       "      <td>afg</td>\n",
       "      <td>48.14</td>\n",
       "      <td>1827</td>\n",
       "    </tr>\n",
       "    <tr>\n",
       "      <th>28</th>\n",
       "      <td>afg</td>\n",
       "      <td>48.14</td>\n",
       "      <td>1828</td>\n",
       "    </tr>\n",
       "    <tr>\n",
       "      <th>29</th>\n",
       "      <td>afg</td>\n",
       "      <td>48.14</td>\n",
       "      <td>1829</td>\n",
       "    </tr>\n",
       "    <tr>\n",
       "      <th>...</th>\n",
       "      <td>...</td>\n",
       "      <td>...</td>\n",
       "      <td>...</td>\n",
       "    </tr>\n",
       "    <tr>\n",
       "      <th>43320</th>\n",
       "      <td>nld_curacao</td>\n",
       "      <td>20.62</td>\n",
       "      <td>1986</td>\n",
       "    </tr>\n",
       "    <tr>\n",
       "      <th>43321</th>\n",
       "      <td>nld_curacao</td>\n",
       "      <td>20.59</td>\n",
       "      <td>1987</td>\n",
       "    </tr>\n",
       "    <tr>\n",
       "      <th>43322</th>\n",
       "      <td>nld_curacao</td>\n",
       "      <td>20.46</td>\n",
       "      <td>1988</td>\n",
       "    </tr>\n",
       "    <tr>\n",
       "      <th>43323</th>\n",
       "      <td>nld_curacao</td>\n",
       "      <td>20.24</td>\n",
       "      <td>1989</td>\n",
       "    </tr>\n",
       "    <tr>\n",
       "      <th>43324</th>\n",
       "      <td>nld_curacao</td>\n",
       "      <td>19.90</td>\n",
       "      <td>1990</td>\n",
       "    </tr>\n",
       "    <tr>\n",
       "      <th>43325</th>\n",
       "      <td>nld_curacao</td>\n",
       "      <td>19.44</td>\n",
       "      <td>1991</td>\n",
       "    </tr>\n",
       "    <tr>\n",
       "      <th>43326</th>\n",
       "      <td>nld_curacao</td>\n",
       "      <td>18.88</td>\n",
       "      <td>1992</td>\n",
       "    </tr>\n",
       "    <tr>\n",
       "      <th>43327</th>\n",
       "      <td>nld_curacao</td>\n",
       "      <td>18.25</td>\n",
       "      <td>1993</td>\n",
       "    </tr>\n",
       "    <tr>\n",
       "      <th>43328</th>\n",
       "      <td>nld_curacao</td>\n",
       "      <td>17.57</td>\n",
       "      <td>1994</td>\n",
       "    </tr>\n",
       "    <tr>\n",
       "      <th>43329</th>\n",
       "      <td>nld_curacao</td>\n",
       "      <td>16.88</td>\n",
       "      <td>1995</td>\n",
       "    </tr>\n",
       "    <tr>\n",
       "      <th>43330</th>\n",
       "      <td>nld_curacao</td>\n",
       "      <td>16.20</td>\n",
       "      <td>1996</td>\n",
       "    </tr>\n",
       "    <tr>\n",
       "      <th>43331</th>\n",
       "      <td>nld_curacao</td>\n",
       "      <td>15.56</td>\n",
       "      <td>1997</td>\n",
       "    </tr>\n",
       "    <tr>\n",
       "      <th>43332</th>\n",
       "      <td>nld_curacao</td>\n",
       "      <td>14.99</td>\n",
       "      <td>1998</td>\n",
       "    </tr>\n",
       "    <tr>\n",
       "      <th>43333</th>\n",
       "      <td>nld_curacao</td>\n",
       "      <td>14.49</td>\n",
       "      <td>1999</td>\n",
       "    </tr>\n",
       "    <tr>\n",
       "      <th>43334</th>\n",
       "      <td>nld_curacao</td>\n",
       "      <td>14.07</td>\n",
       "      <td>2000</td>\n",
       "    </tr>\n",
       "    <tr>\n",
       "      <th>43335</th>\n",
       "      <td>nld_curacao</td>\n",
       "      <td>13.71</td>\n",
       "      <td>2001</td>\n",
       "    </tr>\n",
       "    <tr>\n",
       "      <th>43336</th>\n",
       "      <td>nld_curacao</td>\n",
       "      <td>13.38</td>\n",
       "      <td>2002</td>\n",
       "    </tr>\n",
       "    <tr>\n",
       "      <th>43337</th>\n",
       "      <td>nld_curacao</td>\n",
       "      <td>13.09</td>\n",
       "      <td>2003</td>\n",
       "    </tr>\n",
       "    <tr>\n",
       "      <th>43338</th>\n",
       "      <td>nld_curacao</td>\n",
       "      <td>12.83</td>\n",
       "      <td>2004</td>\n",
       "    </tr>\n",
       "    <tr>\n",
       "      <th>43339</th>\n",
       "      <td>nld_curacao</td>\n",
       "      <td>12.61</td>\n",
       "      <td>2005</td>\n",
       "    </tr>\n",
       "    <tr>\n",
       "      <th>43340</th>\n",
       "      <td>nld_curacao</td>\n",
       "      <td>12.47</td>\n",
       "      <td>2006</td>\n",
       "    </tr>\n",
       "    <tr>\n",
       "      <th>43341</th>\n",
       "      <td>nld_curacao</td>\n",
       "      <td>12.41</td>\n",
       "      <td>2007</td>\n",
       "    </tr>\n",
       "    <tr>\n",
       "      <th>43342</th>\n",
       "      <td>nld_curacao</td>\n",
       "      <td>12.45</td>\n",
       "      <td>2008</td>\n",
       "    </tr>\n",
       "    <tr>\n",
       "      <th>43343</th>\n",
       "      <td>nld_curacao</td>\n",
       "      <td>12.56</td>\n",
       "      <td>2009</td>\n",
       "    </tr>\n",
       "    <tr>\n",
       "      <th>43344</th>\n",
       "      <td>nld_curacao</td>\n",
       "      <td>12.73</td>\n",
       "      <td>2010</td>\n",
       "    </tr>\n",
       "    <tr>\n",
       "      <th>43345</th>\n",
       "      <td>nld_curacao</td>\n",
       "      <td>12.92</td>\n",
       "      <td>2011</td>\n",
       "    </tr>\n",
       "    <tr>\n",
       "      <th>43346</th>\n",
       "      <td>nld_curacao</td>\n",
       "      <td>13.10</td>\n",
       "      <td>2012</td>\n",
       "    </tr>\n",
       "    <tr>\n",
       "      <th>43347</th>\n",
       "      <td>nld_curacao</td>\n",
       "      <td>13.24</td>\n",
       "      <td>2013</td>\n",
       "    </tr>\n",
       "    <tr>\n",
       "      <th>43348</th>\n",
       "      <td>nld_curacao</td>\n",
       "      <td>13.33</td>\n",
       "      <td>2014</td>\n",
       "    </tr>\n",
       "    <tr>\n",
       "      <th>43349</th>\n",
       "      <td>nld_curacao</td>\n",
       "      <td>13.37</td>\n",
       "      <td>2015</td>\n",
       "    </tr>\n",
       "  </tbody>\n",
       "</table>\n",
       "<p>43350 rows × 3 columns</p>\n",
       "</div>"
      ],
      "text/plain": [
       "               geo  crude_birth_rate_births_per_1000_population  time\n",
       "0              afg                                        48.14  1800\n",
       "1              afg                                        48.14  1801\n",
       "2              afg                                        48.14  1802\n",
       "3              afg                                        48.14  1803\n",
       "4              afg                                        48.14  1804\n",
       "5              afg                                        48.14  1805\n",
       "6              afg                                        48.14  1806\n",
       "7              afg                                        48.14  1807\n",
       "8              afg                                        48.14  1808\n",
       "9              afg                                        48.14  1809\n",
       "10             afg                                        48.14  1810\n",
       "11             afg                                        48.14  1811\n",
       "12             afg                                        48.14  1812\n",
       "13             afg                                        48.14  1813\n",
       "14             afg                                        48.14  1814\n",
       "15             afg                                        48.14  1815\n",
       "16             afg                                        48.14  1816\n",
       "17             afg                                        48.14  1817\n",
       "18             afg                                        48.14  1818\n",
       "19             afg                                        48.14  1819\n",
       "20             afg                                        48.14  1820\n",
       "21             afg                                        48.14  1821\n",
       "22             afg                                        48.14  1822\n",
       "23             afg                                        48.14  1823\n",
       "24             afg                                        48.14  1824\n",
       "25             afg                                        48.14  1825\n",
       "26             afg                                        48.14  1826\n",
       "27             afg                                        48.14  1827\n",
       "28             afg                                        48.14  1828\n",
       "29             afg                                        48.14  1829\n",
       "...            ...                                          ...   ...\n",
       "43320  nld_curacao                                        20.62  1986\n",
       "43321  nld_curacao                                        20.59  1987\n",
       "43322  nld_curacao                                        20.46  1988\n",
       "43323  nld_curacao                                        20.24  1989\n",
       "43324  nld_curacao                                        19.90  1990\n",
       "43325  nld_curacao                                        19.44  1991\n",
       "43326  nld_curacao                                        18.88  1992\n",
       "43327  nld_curacao                                        18.25  1993\n",
       "43328  nld_curacao                                        17.57  1994\n",
       "43329  nld_curacao                                        16.88  1995\n",
       "43330  nld_curacao                                        16.20  1996\n",
       "43331  nld_curacao                                        15.56  1997\n",
       "43332  nld_curacao                                        14.99  1998\n",
       "43333  nld_curacao                                        14.49  1999\n",
       "43334  nld_curacao                                        14.07  2000\n",
       "43335  nld_curacao                                        13.71  2001\n",
       "43336  nld_curacao                                        13.38  2002\n",
       "43337  nld_curacao                                        13.09  2003\n",
       "43338  nld_curacao                                        12.83  2004\n",
       "43339  nld_curacao                                        12.61  2005\n",
       "43340  nld_curacao                                        12.47  2006\n",
       "43341  nld_curacao                                        12.41  2007\n",
       "43342  nld_curacao                                        12.45  2008\n",
       "43343  nld_curacao                                        12.56  2009\n",
       "43344  nld_curacao                                        12.73  2010\n",
       "43345  nld_curacao                                        12.92  2011\n",
       "43346  nld_curacao                                        13.10  2012\n",
       "43347  nld_curacao                                        13.24  2013\n",
       "43348  nld_curacao                                        13.33  2014\n",
       "43349  nld_curacao                                        13.37  2015\n",
       "\n",
       "[43350 rows x 3 columns]"
      ]
     },
     "execution_count": 177,
     "metadata": {},
     "output_type": "execute_result"
    }
   ],
   "source": [
    "ddf.ddf_datapoint('ddf--gapminder--systema_globalis', 'crude_birth_rate_births_per_1000_population')"
   ]
  },
  {
   "cell_type": "code",
   "execution_count": null,
   "metadata": {
    "collapsed": true
   },
   "outputs": [],
   "source": []
  }
 ],
 "metadata": {
  "kernelspec": {
   "display_name": "Python 3",
   "language": "python",
   "name": "python3"
  },
  "language_info": {
   "codemirror_mode": {
    "name": "ipython",
    "version": 3
   },
   "file_extension": ".py",
   "mimetype": "text/x-python",
   "name": "python",
   "nbconvert_exporter": "python",
   "pygments_lexer": "ipython3",
   "version": "3.5.1"
  }
 },
 "nbformat": 4,
 "nbformat_minor": 0
}
